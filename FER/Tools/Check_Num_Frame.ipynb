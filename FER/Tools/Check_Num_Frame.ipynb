{
 "cells": [
  {
   "cell_type": "code",
   "execution_count": 1,
   "metadata": {},
   "outputs": [],
   "source": [
    "import matplotlib.pyplot as plt\n",
    "import numpy as np\n",
    "import math\n",
    "from matplotlib.lines import Line2D\n",
    "import os\n",
    "import json\n",
    "import matplotlib.ticker as ticker\n",
    "import seaborn as sns\n",
    "from mpl_toolkits.axes_grid1.inset_locator import zoomed_inset_axes\n",
    "from scipy.interpolate import make_interp_spline, BSpline\n",
    "os.chdir(\"C:/Users/Zber/Documents/Dev_program/OpenRadar\")\n",
    "from FER.utils import MapRecord\n",
    "from sklearn.model_selection import train_test_split\n",
    "import torch.nn as nn\n",
    "import torch"
   ]
  },
  {
   "cell_type": "code",
   "execution_count": 26,
   "metadata": {},
   "outputs": [],
   "source": [
    "class ImageNet_Small_v1(nn.Module):\n",
    "    def __init__(self, num_channel=1):\n",
    "        super(ImageNet_Small_v1, self).__init__()\n",
    "\n",
    "        self.avgpool = nn.AdaptiveAvgPool2d((1, 1))\n",
    "\n",
    "        self.group1 = nn.Sequential(\n",
    "            nn.Conv2d(num_channel, 16, kernel_size=(3, 3), stride=1, padding=(1, 1)),\n",
    "            nn.BatchNorm2d(16),\n",
    "            nn.ReLU(inplace=True),\n",
    "            nn.MaxPool2d((1, 1)))\n",
    "\n",
    "        self.group2 = nn.Sequential(\n",
    "            nn.Conv2d(16, 32, kernel_size=(5, 3), stride=1, padding=(1, 1)),\n",
    "            nn.BatchNorm2d(32),\n",
    "            nn.ReLU(inplace=True),\n",
    "            nn.MaxPool2d((2, 2)))\n",
    "\n",
    "        self.group3 = nn.Sequential(\n",
    "            nn.Conv2d(32, 64, kernel_size=(5, 3), stride=1, padding=(1, 1)),\n",
    "            nn.BatchNorm2d(64),\n",
    "            nn.ReLU(inplace=True),\n",
    "            nn.MaxPool2d((2, 1)),\n",
    "        )\n",
    "\n",
    "        self.group4 = nn.Sequential(\n",
    "            nn.Conv2d(64, 128, kernel_size=(3, 3), stride=1, padding=(2, 1)),\n",
    "            nn.BatchNorm2d(128),\n",
    "            nn.ReLU(inplace=True),\n",
    "            nn.MaxPool2d((2, 1)),\n",
    "        )\n",
    "\n",
    "\n",
    "    def forward(self, x):\n",
    "        x = self.group1(x)\n",
    "        g1 = self.group2(x)\n",
    "        g2 = self.group3(g1)\n",
    "        g3 = self.group4(g2)\n",
    "        return x, g1, g2, g3\n"
   ]
  },
  {
   "cell_type": "code",
   "execution_count": null,
   "metadata": {},
   "outputs": [],
   "source": [
    "class TFblock_v4(nn.Module):\n",
    "    def __init__(self, dim_in=512, dim_inter=1024):\n",
    "        super(TFblock_v4, self).__init__()\n",
    "        # self.encoder = nn.Linear(dim_in, dim_inter)\n",
    "        # self.decoder = nn.Linear(dim_inter, dim_in)\n",
    "\n",
    "        self.encoder = nn.Conv2d(in_channels=dim_in, out_channels=dim_inter, kernel_size=(4, 2))\n",
    "        self.bn1 = nn.BatchNorm2d(num_features=dim_inter)\n",
    "        self.decoder = nn.ConvTranspose2d(in_channels=dim_inter, out_channels=(dim_in + dim_inter) // 2, kernel_size=(\n",
    "            3, 3), stride=(1, 1), padding=(0, 0))\n",
    "        self.decoder1 = nn.ConvTranspose2d(in_channels=(dim_in + dim_inter) // 2, out_channels=dim_in, kernel_size=(\n",
    "            5, 5), stride=(1, 1), padding=(0, 0))\n",
    "\n",
    "    def forward(self, x):\n",
    "        x = self.encoder(x)\n",
    "        # x = self.avgpool(x)\n",
    "        x = self.bn1(x)\n",
    "        x = self.decoder(x)\n",
    "        x = self.decoder1(x)\n",
    "        return x"
   ]
  },
  {
   "cell_type": "code",
   "execution_count": 31,
   "metadata": {},
   "outputs": [],
   "source": [
    "class TFblock_v3(nn.Module):\n",
    "    def __init__(self, dim_in=512, dim_inter=1024):\n",
    "        super(TFblock_v3, self).__init__()\n",
    "        # self.encoder = nn.Linear(dim_in, dim_inter)\n",
    "        # self.decoder = nn.Linear(dim_inter, dim_in)\n",
    "\n",
    "        self.encoder = nn.Conv2d(dim_in, dim_inter, (2, 2))\n",
    "        self.bn1 = nn.BatchNorm2d(num_features=dim_inter)\n",
    "        self.decoder = nn.ConvTranspose2d(in_channels=dim_inter, out_channels=dim_in, kernel_size=(\n",
    "            3, 3), stride=(1, 1), padding=(0, 0))\n",
    "\n",
    "    def forward(self, x):\n",
    "        x = self.encoder(x)\n",
    "        # x = self.avgpool(x)\n",
    "        x = self.bn1(x)\n",
    "        x = self.decoder(x)\n",
    "        return x\n"
   ]
  },
  {
   "cell_type": "code",
   "execution_count": 4,
   "metadata": {},
   "outputs": [
    {
     "name": "stdout",
     "output_type": "stream",
     "text": [
      "torch.Size([1, 64, 5, 7])\n"
     ]
    }
   ],
   "source": [
    "m = nn.AdaptiveAvgPool2d((5, 7))\n",
    "input = torch.randn(1, 64, 8, 9)\n",
    "output = m(input)\n",
    "print(output.size())\n"
   ]
  },
  {
   "cell_type": "code",
   "execution_count": 2,
   "metadata": {},
   "outputs": [
    {
     "data": {
      "text/plain": [
       "torch.Size([2, 3, 3])"
      ]
     },
     "execution_count": 2,
     "metadata": {},
     "output_type": "execute_result"
    }
   ],
   "source": [
    "a = torch.randn(2, 3, 3)\n",
    "a.size()"
   ]
  },
  {
   "cell_type": "code",
   "execution_count": 3,
   "metadata": {},
   "outputs": [
    {
     "data": {
      "text/plain": [
       "torch.Size([2, 3, 3, 1])"
      ]
     },
     "execution_count": 3,
     "metadata": {},
     "output_type": "execute_result"
    }
   ],
   "source": [
    "a = a.unsqueeze(3)\n",
    "a.size()"
   ]
  },
  {
   "cell_type": "code",
   "execution_count": 10,
   "metadata": {},
   "outputs": [
    {
     "data": {
      "text/plain": [
       "torch.Size([16, 16])"
      ]
     },
     "execution_count": 10,
     "metadata": {},
     "output_type": "execute_result"
    }
   ],
   "source": [
    "a = torch.randn(16, 512)\n",
    "b = torch.randn(16, 512)\n",
    "\n",
    "c = torch.cdist(a, b, p=2, compute_mode=\"donot_use_mm_for_euclid_dist\")\n",
    "c.size()\n"
   ]
  },
  {
   "cell_type": "code",
   "execution_count": 17,
   "metadata": {},
   "outputs": [
    {
     "name": "stdout",
     "output_type": "stream",
     "text": [
      "90.50966799187809\n"
     ]
    }
   ],
   "source": [
    "a = np.zeros((16, 512))\n",
    "b = np.ones((16, 512))\n",
    "\n",
    "c = np.linalg.norm(a - b)\n",
    "print(c)\n"
   ]
  }
 ],
 "metadata": {
  "interpreter": {
   "hash": "0210c7e9b9cf9ed8e3f7452f6d428fef60037b48b80a0b353b2536d40dcfcdca"
  },
  "kernelspec": {
   "display_name": "Python 3.7.11",
   "language": "python",
   "name": "python3"
  },
  "language_info": {
   "codemirror_mode": {
    "name": "ipython",
    "version": 3
   },
   "file_extension": ".py",
   "mimetype": "text/x-python",
   "name": "python",
   "nbconvert_exporter": "python",
   "pygments_lexer": "ipython3",
   "version": "3.7.11"
  },
  "orig_nbformat": 4
 },
 "nbformat": 4,
 "nbformat_minor": 2
}
