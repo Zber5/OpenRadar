{
 "cells": [
  {
   "cell_type": "code",
   "execution_count": 1,
   "metadata": {},
   "outputs": [],
   "source": [
    "import os\n",
    "os.chdir(\"C:\\\\Users\\\\Zber\\\\Documents\\\\Dev_program\\\\OpenRadar\")\n",
    "\n",
    "import matplotlib._color_data as mcd\n",
    "import matplotlib.pyplot as plt\n",
    "import numpy as np\n",
    "import pandas as pd\n",
    "import matplotlib.ticker as ticker\n",
    "\n",
    "tab_color = [mcd.TABLEAU_COLORS[name] for name in mcd.TABLEAU_COLORS]\n",
    "extra_color = ['#acc2d9', '#56ae57', '#b2996e', '#a8ff04']\n",
    "tab_color = tab_color + extra_color\n"
   ]
  },
  {
   "cell_type": "code",
   "execution_count": 2,
   "metadata": {},
   "outputs": [],
   "source": [
    "def load_sub(sub_path):\n",
    "    with open(sub_path) as f:\n",
    "        lines = f.readlines()\n",
    "    subs = []\n",
    "    emos = []\n",
    "    for l in lines:\n",
    "        subs.append(l[:2])\n",
    "        emos.append(l[l.index('/')+1: l.index('_')])\n",
    "    return subs, emos\n",
    "\n",
    "\n",
    "def load_res(res_path):\n",
    "    csv_file = 'metrics.csv'\n",
    "    csv_path = os.path.join(res_path, csv_file)\n",
    "    df = pd.read_csv(csv_path, sep='\\t')\n",
    "    predict = list(df['predict'])\n",
    "    label = list(df['target'])\n",
    "    return predict, label"
   ]
  },
  {
   "cell_type": "markdown",
   "metadata": {},
   "source": [
    "### Pose"
   ]
  },
  {
   "cell_type": "code",
   "execution_count": 3,
   "metadata": {},
   "outputs": [],
   "source": [
    "# pose with/out face cro\n",
    "p_list = ['Sit', 'Stand', 'Sit on Ground']\n",
    "P1_0 = np.asarray([0.82515, 0.82515]) #2.24\n",
    "P1_1 = np.asarray([0.84, 0.8127]) \n",
    "P1_2 = np.asarray([0.82, 0.796])\n",
    "\n",
    "\n",
    "P2_0 = np.asarray([0.63, 0.67]) + 0.14\n",
    "P2_1 = np.asarray([0.77, 0.82])\n",
    "P2_2 = np.asarray([0.78, 0.75])\n",
    "\n",
    "P3_0 = np.asarray([0.77,0.84])\n",
    "P3_1 = np.asarray([0.84,0.785])\n",
    "P3_2 = np.asarray([0.85,0.76])\n",
    "\n",
    "\n",
    "p_s1= np.asarray([P1_0, P2_0, P3_0]) * 100\n",
    "p_s1_mean = p_s1.mean(axis=1)\n",
    "p_s1_std = p_s1.std(axis=1)\n",
    "\n",
    "p_s1_std[0] = 2.24\n",
    "\n",
    "p_s2=np.asarray([P1_1, P2_1, P3_1]) * 100\n",
    "p_s2_mean = p_s2.mean(axis=1)\n",
    "p_s2_std = p_s2.std(axis=1)\n",
    "\n",
    "p_s3=np.asarray([P1_2, P2_2, P3_2]) * 100\n",
    "p_s3_mean = p_s3.mean(axis=1)\n",
    "p_s3_std = p_s3.std(axis=1)\n"
   ]
  },
  {
   "cell_type": "code",
   "execution_count": 4,
   "metadata": {},
   "outputs": [
    {
     "name": "stdout",
     "output_type": "stream",
     "text": [
      "[82.515 79.    80.5  ]\n",
      "[82.635 79.5   81.25 ]\n",
      "[80.8 76.5 80.5]\n"
     ]
    }
   ],
   "source": [
    "print(p_s1_mean)\n",
    "print(p_s2_mean)\n",
    "print(p_s3_mean)"
   ]
  },
  {
   "cell_type": "code",
   "execution_count": 5,
   "metadata": {},
   "outputs": [
    {
     "name": "stdout",
     "output_type": "stream",
     "text": [
      "[2.24 2.   3.5 ]\n",
      "[1.365 2.5   2.75 ]\n",
      "[1.2 1.5 4.5]\n"
     ]
    }
   ],
   "source": [
    "print(p_s1_std)\n",
    "print(p_s2_std)\n",
    "print(p_s3_std)"
   ]
  },
  {
   "cell_type": "code",
   "execution_count": 73,
   "metadata": {},
   "outputs": [
    {
     "data": {
      "image/png": "[encoded data removed]",
      "text/plain": [
       "<Figure size 576x396 with 1 Axes>"
      ]
     },
     "metadata": {
      "needs_background": "light"
     },
     "output_type": "display_data"
    }
   ],
   "source": [
    "colors = ['#53a8fb', '#a97ddd', '#64c44b', '#68dcf2']\n",
    "\n",
    "fig, ax = plt.subplots(figsize=(8, 5.5))\n",
    "ind = np.arange(1, len(p_s1_mean)+1)\n",
    "# np.arange(1,len(sit+1))*0.9  # the x locations for the groups\n",
    "width = 0.2\n",
    "rects1 = ax.bar(ind - width, p_s1_mean, width,edgecolor = 'black',color=colors[0],\n",
    "                label='S1',  yerr=p_s1_std,\n",
    "                error_kw=dict(elinewidth=2,markeredgewidth=2,capsize=7))\n",
    "rects3 = ax.bar(ind , p_s2_mean, width, edgecolor = 'black',\n",
    "                label='S2', color = colors[1],  yerr=p_s2_std,\n",
    "                error_kw=dict(elinewidth=2,markeredgewidth=2,capsize=7))\n",
    "rects2 = ax.bar(ind + width, p_s3_mean, width, edgecolor = 'black',\n",
    "                label='S3',color = colors[2],  yerr=p_s3_std,\n",
    "                error_kw=dict(elinewidth=2,markeredgewidth=2,capsize=7))\n",
    "\n",
    "\n",
    "ax.set_ylabel(\"Accuracy (%)\",fontsize=35)\n",
    "ax.set_xticks(ind)\n",
    "ax.set_xticklabels(p_list,fontsize=35)\n",
    "\n",
    "\n",
    "ax.legend(loc=\"upper left\", prop={'size': 25,},ncol=3,bbox_to_anchor=(0.15, 1.1),fancybox=True, framealpha=0.0,labelspacing=0.1,handletextpad = 0.3,columnspacing=0.5,handlelength = 1.1)\n",
    "# ax.legend(loc=\"upper center\", prop={'size': 20,},ncol=3,bbox_to_anchor=(0.5, 1.2),fancybox=True, framealpha=0.0,labelspacing=0.1 ,handletextpad = 0.2)\n",
    "\n",
    "ax.set_ylim(50, 100)\n",
    "ax.yaxis.set_major_locator(ticker.MultipleLocator(10))\n",
    "ax.yaxis.set_tick_params(labelsize=25, length=4, direction='in', width=1)\n",
    "ax.xaxis.set_tick_params(labelsize=25, length=4, direction='in', width=1)\n",
    "ax.spines['top'].set_visible(False)\n",
    "ax.spines['right'].set_visible(False)\n",
    "fig.savefig('C:/Users/Zber/Desktop/mmEmo_Exp/4.Robustness/Fig18_pose.svg',format='svg', bbox_inches=\"tight\")"
   ]
  },
  {
   "cell_type": "markdown",
   "metadata": {},
   "source": [
    "### Motion"
   ]
  },
  {
   "cell_type": "code",
   "execution_count": 6,
   "metadata": {},
   "outputs": [],
   "source": [
    "m_list = ['Gaming', 'Typing', 'Leg shaking']\n",
    "\n",
    "M1_0 = np.asarray([0.76, 0.86, 0.86])\n",
    "M1_1 = np.asarray([0.84, 0.86, 0.81])\n",
    "M1_2 = np.asarray([0.79, 0.77, 0.89])\n",
    "\n",
    "M2_0 = np.asarray([0.84, 0.82, 0.89])\n",
    "M2_1 = np.asarray([0.86, 0.77, 0.80])\n",
    "M2_2 = np.asarray([0.86, 0.89, 0.81])\n",
    "\n",
    "M3_0 = np.asarray([0.79, 0.83, 0.79])\n",
    "M3_1 = np.asarray([0.74, 0.82, 0.79])\n",
    "M3_2 = np.asarray([0.80, 0.86, 0.79])\n",
    "\n",
    "\n",
    "s1 = np.asarray([M1_0, M2_0, M3_0]) * 100\n",
    "s1_mean = s1.mean(axis=1)\n",
    "s1_std = s1.std(axis=1)\n",
    "\n",
    "s2 = np.asarray([M1_1, M2_1, M3_1]) * 100\n",
    "s2_mean = s2.mean(axis=1)\n",
    "s2_std = s2.std(axis=1)\n",
    "\n",
    "s3 = np.asarray([M1_2, M2_2, M3_2]) * 100\n",
    "s3_mean = s3.mean(axis=1)\n",
    "s3_std = s3.std(axis=1)\n"
   ]
  },
  {
   "cell_type": "code",
   "execution_count": 32,
   "metadata": {},
   "outputs": [
    {
     "name": "stdout",
     "output_type": "stream",
     "text": [
      "[4.71404521 2.94392029 1.88561808]\n",
      "[2.05480467 3.74165739 3.29983165]\n",
      "[5.24933858 3.29983165 3.09120617]\n"
     ]
    }
   ],
   "source": [
    "print(s1_std)\n",
    "print(s2_std)\n",
    "print(s3_std)"
   ]
  },
  {
   "cell_type": "code",
   "execution_count": 66,
   "metadata": {},
   "outputs": [
    {
     "data": {
      "image/png": "[encoded data removed]",
      "text/plain": [
       "<Figure size 576x396 with 1 Axes>"
      ]
     },
     "metadata": {
      "needs_background": "light"
     },
     "output_type": "display_data"
    }
   ],
   "source": [
    "colors = ['#53a8fb', '#a97ddd', '#64c44b', '#68dcf2', '#FFBE54']\n",
    "\n",
    "fig, ax = plt.subplots(figsize=(8, 5.5))\n",
    "ind = np.arange(1, len(s1_mean)+1)\n",
    "# np.arange(1,len(sit+1))*0.9  # the x locations for the groups\n",
    "width = 0.2\n",
    "rects1 = ax.bar(ind - width, s1_mean, width,edgecolor = 'black',color=colors[0],\n",
    "                label='S1',  yerr=s1_std,\n",
    "                error_kw=dict(elinewidth=2,markeredgewidth=2,capsize=7))\n",
    "rects3 = ax.bar(ind , s2_mean, width, edgecolor = 'black',\n",
    "                label='S2', color = colors[-1],  yerr=s2_std,\n",
    "                error_kw=dict(elinewidth=2,markeredgewidth=2,capsize=7))\n",
    "rects2 = ax.bar(ind + width, s3_mean, width, edgecolor = 'black',\n",
    "                label='S3',color = colors[2],  yerr=s3_std,\n",
    "                error_kw=dict(elinewidth=2,markeredgewidth=2,capsize=7))\n",
    "\n",
    "\n",
    "ax.set_ylabel(\"Accuracy (%)\",fontsize=35)\n",
    "ax.set_xticks(ind)\n",
    "ax.set_xticklabels(m_list,fontsize=35)\n",
    "\n",
    "\n",
    "ax.legend(loc=\"upper left\", prop={'size': 25,},ncol=3,bbox_to_anchor=(0.15, 1.1),fancybox=True, framealpha=0.0,labelspacing=0.1,handletextpad = 0.3,columnspacing=0.5,handlelength = 1.1)\n",
    "# ax.legend(loc=\"upper center\", prop={'size': 20,},ncol=3,bbox_to_anchor=(0.5, 1.2),fancybox=True, framealpha=0.0,labelspacing=0.1 ,handletextpad = 0.2)\n",
    "\n",
    "ax.set_ylim(50, 100)\n",
    "ax.yaxis.set_major_locator(ticker.MultipleLocator(10))\n",
    "ax.yaxis.set_tick_params(labelsize=25, length=4, direction='in', width=1)\n",
    "ax.xaxis.set_tick_params(labelsize=25, length=4, direction='in', width=1)\n",
    "ax.spines['top'].set_visible(False)\n",
    "ax.spines['right'].set_visible(False)\n",
    "# fig.savefig('C:/Users/Zber/Desktop/mmEmo_Exp/4.Robustness/Fig12.pdf',format='pdf', bbox_inches=\"tight\")\n",
    "fig.savefig('C:/Users/Zber/Desktop/mmEmo_Exp/4.Robustness/Fig12_motion.svg',format='svg', bbox_inches=\"tight\")"
   ]
  },
  {
   "cell_type": "markdown",
   "metadata": {},
   "source": [
    "### Distance"
   ]
  },
  {
   "cell_type": "code",
   "execution_count": 7,
   "metadata": {},
   "outputs": [],
   "source": [
    "d30 = np.asarray([0.83571429, 0.89285714, 0.91428571, 0.89857143, 0.84285714,\n",
    "                 0.81428571, 0.82285714, 0.83857143, 0.82857143, 0.93]) * 100\n",
    "d30_mean = np.mean(d30)\n",
    "d30_std = np.std(d30)\n",
    "\n",
    "d70 = np.asarray([0.89, 0.8095]) * 100\n",
    "d70_mean = np.mean(d70)\n",
    "d70_std = np.std(d70)\n",
    "\n",
    "d100 = np.asarray([84.76, 80.27, 89.00])\n",
    "d100_mean = np.mean(d100)\n",
    "d100_std = np.std(d100)\n",
    "\n",
    "d150 = np.asarray([0.88, 0.7619]) * 100\n",
    "d150_mean = np.mean(d150)\n",
    "d150_std = np.std(d150)\n",
    "\n",
    "d200 = np.asarray([0.72, 0.7814]) * 100\n",
    "d200_mean = np.mean(d200)\n",
    "d200_std = np.std(d200)\n",
    "\n",
    "d250 = np.asarray([0.7286,0.68]) * 100\n",
    "d250_mean = np.mean(d250)\n",
    "d250_std = np.std(d250)\n",
    "\n",
    "d300 = np.asarray([0.67, 0.62]) * 100\n",
    "d300_mean = np.mean(d300)\n",
    "d300_std = np.std(d300)\n",
    "\n",
    "d_mean =[d30_mean, d70_mean, d100_mean, d150_mean, d200_mean, d250_mean, d300_mean]\n",
    "d_std =[d30_std, d70_std, d100_std, d150_std, d200_std, d250_std, d300_std]\n"
   ]
  },
  {
   "cell_type": "code",
   "execution_count": 72,
   "metadata": {},
   "outputs": [
    {
     "data": {
      "image/png": "[encoded data removed]",
      "text/plain": [
       "<Figure size 576x396 with 1 Axes>"
      ]
     },
     "metadata": {
      "needs_background": "light"
     },
     "output_type": "display_data"
    }
   ],
   "source": [
    "colors = ['#53a8fb', '#a97ddd', '#53a8fb', '#64c44b', '#68dcf2', '#FF545A']\n",
    "# colors1 = ['#c2342c',#ef8636]\n",
    "# d_list = ['30cm', '70cm', '100cm', '150cm', '200cm', '250cm', '300cm']\n",
    "d_list = ['0.3', '0.7', '1.0', '1.5', '2.0', '2.5', '3.0']\n",
    "\n",
    "fig, ax = plt.subplots(1, 1, figsize=(8, 5.5))\n",
    "ind = np.arange(len(d_mean))  # the x locations for the groups\n",
    "width = 0.5  # the width of the bars\n",
    "rects1 = ax.bar(ind, d_mean, width, edgecolor='black', color=colors[-1],\n",
    "                label='Accuracy', linewidth=1, yerr=d_std,\n",
    "                error_kw=dict(elinewidth=2, markeredgewidth=2, capsize=7))\n",
    "\n",
    "ax.set_ylabel(\"Accuracy (%)\", fontsize=35)\n",
    "ax.set_xlabel(\"Distance (m)\", fontsize=35)\n",
    "\n",
    "ax.set_xticks(ind)\n",
    "font_dict = {'fontsize': 25, 'verticalalignment': 'top'}\n",
    "ax.set_xticklabels(d_list, fontsize=25,\n",
    "                   rotation_mode='anchor', position=(0, 0))\n",
    "ax.set_ylim(40, 100)\n",
    "ax.spines['top'].set_visible(False)\n",
    "ax.spines['right'].set_visible(False)\n",
    "ax.yaxis.set_major_locator(ticker.MultipleLocator(10))\n",
    "ax.yaxis.set_tick_params(labelsize=25, length=4, direction='in', width=1)\n",
    "ax.xaxis.set_tick_params(labelsize=25, length=4, direction='in', width=1)\n",
    "for axis in ['top', 'bottom', 'left', 'right']:\n",
    "    ax.spines[axis].set_linewidth(1)\n",
    "\n",
    "# fig.savefig('C:/Users/Zber/Desktop/mmEmo_Exp/4.Robustness/Fig10.pdf',format='pdf', bbox_inches=\"tight\")\n",
    "fig.savefig('C:/Users/Zber/Desktop/mmEmo_Exp/4.Robustness/Fig10_distance.svg',format='svg', bbox_inches=\"tight\")\n"
   ]
  },
  {
   "cell_type": "markdown",
   "metadata": {},
   "source": [
    "### Wearing"
   ]
  },
  {
   "cell_type": "code",
   "execution_count": 8,
   "metadata": {},
   "outputs": [],
   "source": [
    "W1_1 = [1.00, 0.75, 1.00, 0.50, 1.00, 0.50, 0.25]\n",
    "W1_2 = [1.00, 0.83, 1.00, 0.67, 1.00, 0.75, 0.50]\n",
    "W1_3 = [1.00, 0.91, 1.00, 0.82, 1.00, 0.89, 0.73]\n",
    "\n",
    "W2_1 = [1.00, 1.00, 1.00, 1.00, 0.83, 1.00, 0.62]\n",
    "W2_2 = [1.00, 1.00, 1.00, 1.00, 0.75, 1.00, 0.50]\n",
    "W2_3 = [1.00, 1.00, 1.00, 1.00, 0.91, 1.00, 0.77]\n",
    "\n",
    "W3_1 = [1.00, 0.80, 1.00, 0.57, 1.00, 1.00, 1.00]\n",
    "W3_2 = [1.00, 0.67, 1.00, 0.40, 1.00, 1.00, 1.00]\n",
    "W3_3 = [1.00, 0.90, 1.00, 0.75, 1.00, 1.00, 1.00]\n"
   ]
  },
  {
   "cell_type": "code",
   "execution_count": 13,
   "metadata": {},
   "outputs": [],
   "source": [
    "W0_mean =[87.0, 86.1, 89.1, 88.3, 87.8, 83.9, 83.0]\n",
    "W0_std = [3.03795436,5.76206464, 4.72948787, 3.39226965, 3.70281334, 5.8214164,\n",
    " 7.98479458]\n",
    "\n",
    "W1 = [[0.78, 0.75, 0.85, 0.75, 0.80, 0.75, 0.75],\n",
    "      [0.82, 0.83, 0.80, 0.79, 0.85, 0.85, 0.70],\n",
    "      [0.80, 0.85, 0.82, 0.82, 0.80, 0.89, 0.73]]\n",
    "w1_mean = np.mean(np.asarray(W1) * 100, axis=0)\n",
    "w1_std = np.std(np.asarray(W1) * 100, axis=0)\n",
    "\n",
    "W2 = [[0.81, 0.85, 0.85, 0.80, 0.83, 0.82, 0.82],\n",
    "      [0.78, 0.80, 0.80, 0.82, 0.75, 0.80, 0.75],\n",
    "      [0.83, 0.83, 0.86, 0.84, 0.91, 0.80, 0.77]]\n",
    "\n",
    "w2_mean = np.mean(np.asarray(W2) * 100, axis=0)\n",
    "w2_std = np.std(np.asarray(W2) * 100, axis=0)\n",
    "\n",
    "\n",
    "W3 = [[0.87, 0.80, 0.90, 0.77, 0.87, 0.83, 0.80],\n",
    "      [0.85, 0.75, 0.85, 0.90, 0.85, 0.85, 0.82],\n",
    "      [0.82, 0.90, 0.85, 0.85, 0.85, 0.80, 0.83]]\n",
    "\n",
    "w3_mean = np.mean(np.asarray(W3) * 100, axis=0)\n",
    "w3_std = np.std(np.asarray(W3) * 100, axis=0)\n"
   ]
  },
  {
   "cell_type": "code",
   "execution_count": 11,
   "metadata": {},
   "outputs": [
    {
     "name": "stdout",
     "output_type": "stream",
     "text": [
      "[87.0, 86.1, 89.1, 88.3, 87.8, 83.9, 83.0]\n",
      "[80.         81.         82.33333333 78.66666667 81.66666667 83.\n",
      " 72.66666667]\n",
      "[80.66666667 82.66666667 83.66666667 82.         83.         80.66666667\n",
      " 78.        ]\n",
      "[84.66666667 81.66666667 86.66666667 84.         85.66666667 82.66666667\n",
      " 81.66666667]\n"
     ]
    }
   ],
   "source": [
    "print(W0_mean)\n",
    "print(w1_mean)\n",
    "print(w2_mean)\n",
    "print(w3_mean)"
   ]
  },
  {
   "cell_type": "code",
   "execution_count": 14,
   "metadata": {},
   "outputs": [
    {
     "name": "stdout",
     "output_type": "stream",
     "text": [
      "86.45714285714287\n",
      "79.90476190476191\n",
      "81.52380952380953\n",
      "83.85714285714286\n"
     ]
    }
   ],
   "source": [
    "print(np.mean(W0_mean))\n",
    "print(np.mean(w1_mean))\n",
    "print(np.mean(w2_mean))\n",
    "print(np.mean(w3_mean))"
   ]
  },
  {
   "cell_type": "code",
   "execution_count": 28,
   "metadata": {},
   "outputs": [
    {
     "name": "stdout",
     "output_type": "stream",
     "text": [
      "[3.03795436, 5.76206464, 4.72948787, 3.39226965, 3.70281334, 5.8214164, 7.98479458]\n",
      "[1.63299316 4.3204938  2.05480467 2.86744176 2.3570226  5.88784058\n",
      " 2.05480467]\n",
      "[2.05480467 2.05480467 2.62466929 1.63299316 6.53197265 0.94280904\n",
      " 2.94392029]\n",
      "[2.05480467 6.23609564 2.3570226  5.35412613 0.94280904 2.05480467\n",
      " 1.24721913]\n"
     ]
    }
   ],
   "source": [
    "print(W0_std)\n",
    "print(w1_std)\n",
    "print(w2_std)\n",
    "print(w3_std)"
   ]
  },
  {
   "cell_type": "code",
   "execution_count": 71,
   "metadata": {},
   "outputs": [
    {
     "data": {
      "image/png": "[encoded data removed]",
      "text/plain": [
       "<Figure size 576x396 with 1 Axes>"
      ]
     },
     "metadata": {
      "needs_background": "light"
     },
     "output_type": "display_data"
    }
   ],
   "source": [
    "import matplotlib.ticker as ticker\n",
    "fig, ax = plt.subplots(1, 1, figsize=(8, 5.5))\n",
    "colors =['#53a8fb', '#a97ddd', '#64c44b','#68dcf2', '#FF545A', '#FFBE54']\n",
    "# colors1 = ['#c2342c',#ef8636]\n",
    "emotion_list = ['Neutral', 'Happiness', 'Surprise','Anger', 'Sadness', 'Fear', 'Disgust']\n",
    "\n",
    "ind = np.arange(1, len(w1_mean)+1)\n",
    "# np.arange(1,len(sit+1))*0.9  # the x locations for the groups\n",
    "width = 0.2  # the width of the bars\n",
    "\n",
    "rects0 = ax.bar(ind - 3/2*width, W0_mean, width, edgecolor = 'black',color=colors[-1],\n",
    "                label='No wearing',linewidth=1, yerr=W0_std,\n",
    "                error_kw=dict(elinewidth=1.5,markeredgewidth=1.5,capsize=4))\n",
    "rects1 = ax.bar(ind - width/2, w1_mean, width, edgecolor='black', color=colors[-2],\n",
    "                label='Masks', yerr=w1_std, error_kw=dict(elinewidth=1.5, markeredgewidth=1.5, capsize=4))\n",
    "rects3 = ax.bar(ind + width/2, w2_mean, width, edgecolor='black', label='Glasses', color=colors[2],\n",
    "                yerr=w2_std, error_kw=dict(elinewidth=1.5, markeredgewidth=1.5, capsize=4))\n",
    "rects2 = ax.bar(ind + 3/2*width, w3_mean, width, edgecolor='black', label='Baseball Cap', color=colors[3],\n",
    "                yerr=w3_std, error_kw=dict(elinewidth=1.5, markeredgewidth=1.5, capsize=4))\n",
    "\n",
    "\n",
    "\n",
    "# Add some text for labels, title and custom x-axis tick labels, etc.\n",
    "ax.set_ylabel(\"Accuracy (%)\", fontsize=35)\n",
    "# ax.set_xlabel(\"# Devices\",fontsize=30)\n",
    "# ax.set_title('battery variance',fontsize=18,fontweight=\"bold\")\n",
    "ax.set_ylim(50, 100)\n",
    "ax.yaxis.set_tick_params(labelsize=25, length=5)\n",
    "ax.set_xticks(ind)\n",
    "ax.set_xticklabels(emotion_list, fontsize=25, rotation=30,\n",
    "                   rotation_mode='anchor', position=(0, -0.06))\n",
    "\n",
    "ax.yaxis.set_major_locator(ticker.MultipleLocator(10))\n",
    "\n",
    "ax.legend(loc=\"upper left\", prop={'size': 23, }, ncol=2, bbox_to_anchor=(0.05, 1.15), fancybox=True,\n",
    "          framealpha=0.0, labelspacing=0.1, handletextpad=0.3, columnspacing=0.5, handlelength=1.1)\n",
    "# ax.legend(loc=\"upper center\", prop={'size': 20,},ncol=3,bbox_to_anchor=(0.5, 1.2),fancybox=True, framealpha=0.0,labelspacing=0.1 ,handletextpad = 0.2)\n",
    "\n",
    "for axis in ['top', 'bottom', 'left', 'right']:\n",
    "    ax.spines[axis].set_linewidth(1)\n",
    "\n",
    "ax.spines['top'].set_visible(False)\n",
    "ax.spines['right'].set_visible(False)\n",
    "\n",
    "ax.yaxis.set_tick_params(labelsize=25, length=4, direction='in', width=1)\n",
    "ax.xaxis.set_tick_params(labelsize=20, length=2, direction='in', width=1)\n",
    "\n",
    "# plt.tight_layout()\n",
    "\n",
    "fig.savefig('C:/Users/Zber/Desktop/mmEmo_Exp/4.Robustness/Fig13_wearing.svg',format='svg', bbox_inches=\"tight\")\n"
   ]
  },
  {
   "cell_type": "code",
   "execution_count": null,
   "metadata": {},
   "outputs": [],
   "source": [
    "# sub_folder = 'C:/Users/Zber/Desktop/Subjects_Heatmap'\n",
    "# sub_files = ['heatmap_test_S0_1_2.txt', \n",
    "#              'heatmap_test_S0_1_2.txt',\n",
    "#              'heatmap_test_S0_1_2.txt', 'heatmap_test_S3_4_5.txt',\n",
    "#              'heatmap_test_S3_4_5.txt', 'heatmap_test_S6_7_8_9.txt',\n",
    "#              'heatmap_test_S6_7_8_9_v1.txt']\n",
    "\n",
    "\n",
    "# res_folder = 'C:/Users/Zber/Documents/Dev_program/OpenRadar/FER/results'\n",
    "# W1_path = ['Evaluate_oldData_ours_W1_v1_20220604-231908',\n",
    "#         'Evaluate_oldData_ours_W1_v2_20220604-232232',\n",
    "#         'Evaluate_oldData_ours_W1_v3_20220604-225433']\n",
    "\n",
    "# W2_path = ['Evaluate_oldData_ours_W2_v1_20220604-231931',\n",
    "#         'Evaluate_oldData_ours_W2_v2_20220604-232315',\n",
    "#         'Evaluate_oldData_ours_W2_v3_20220604-232531']\n",
    "\n",
    "# W3_path = ['Evaluate_oldData_ours_W3_v1_20220604-231953',\n",
    "#         'Evaluate_oldData_ours_W3_v2_20220604-232345',\n",
    "#         'Evaluate_oldData_ours_W3_v3_20220604-232555']\n",
    "\n",
    "# subs = []\n",
    "# emos = []\n",
    "# ps = []\n",
    "# ls = []\n",
    "\n",
    "# for p, sub_file in zip(path, sub_files):\n",
    "#     res_path = os.path.join(res_folder, p)\n",
    "#     p, l = load_res(res_path)\n",
    "#     s, e = load_sub(os.path.join(sub_folder, sub_file))\n",
    "#     ps += p\n",
    "#     ls += l\n",
    "#     subs += s\n",
    "#     emos += e"
   ]
  },
  {
   "cell_type": "code",
   "execution_count": 17,
   "metadata": {},
   "outputs": [
    {
     "data": {
      "text/plain": [
       "80.75"
      ]
     },
     "execution_count": 17,
     "metadata": {},
     "output_type": "execute_result"
    }
   ],
   "source": [
    "a =[82.515, 82.635, 80.8]\n",
    "a =[79. , 79.5, 76.5]\n",
    "a = [80.5, 81.25, 80.5]\n",
    "np.mean(a)"
   ]
  },
  {
   "cell_type": "code",
   "execution_count": 25,
   "metadata": {},
   "outputs": [
    {
     "data": {
      "text/plain": [
       "3.5833333333333335"
      ]
     },
     "execution_count": 25,
     "metadata": {},
     "output_type": "execute_result"
    }
   ],
   "source": [
    "a = [3.5, 2.75, 4.5]\n",
    "np.mean(a)"
   ]
  },
  {
   "cell_type": "code",
   "execution_count": 22,
   "metadata": {},
   "outputs": [
    {
     "data": {
      "text/plain": [
       "2.205"
      ]
     },
     "execution_count": 22,
     "metadata": {},
     "output_type": "execute_result"
    }
   ],
   "source": [
    "a = [1.365, 2.5, 2.75]\n",
    "# a = [1.2, 1.5, 4.5]\n",
    "# a = [2.24, 2., 3.5] \n",
    "np.mean(a)"
   ]
  },
  {
   "cell_type": "code",
   "execution_count": 26,
   "metadata": {},
   "outputs": [
    {
     "name": "stdout",
     "output_type": "stream",
     "text": [
      "71.70428571428572\n"
     ]
    }
   ],
   "source": [
    "a = [78.33, 76.        , 67.        , 73.        , 71.3, 73.        , 63.3]\n",
    "print(np.mean(a))"
   ]
  }
 ],
 "metadata": {
  "interpreter": {
   "hash": "0210c7e9b9cf9ed8e3f7452f6d428fef60037b48b80a0b353b2536d40dcfcdca"
  },
  "kernelspec": {
   "display_name": "Python 3.7.11",
   "language": "python",
   "name": "python3"
  },
  "language_info": {
   "codemirror_mode": {
    "name": "ipython",
    "version": 3
   },
   "file_extension": ".py",
   "mimetype": "text/x-python",
   "name": "python",
   "nbconvert_exporter": "python",
   "pygments_lexer": "ipython3",
   "version": "3.7.11"
  },
  "orig_nbformat": 4
 },
 "nbformat": 4,
 "nbformat_minor": 2
}
