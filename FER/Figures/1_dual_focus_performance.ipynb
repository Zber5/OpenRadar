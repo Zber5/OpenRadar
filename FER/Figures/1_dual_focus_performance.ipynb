{
 "cells": [
  {
   "cell_type": "code",
   "execution_count": 2,
   "metadata": {},
   "outputs": [],
   "source": [
    "import os\n",
    "os.chdir(\"C:\\\\Users\\\\Zber\\\\Documents\\\\Dev_program\\\\OpenRadar\")\n",
    "\n",
    "import matplotlib.pyplot as plt\n",
    "import numpy as np\n",
    "from sklearn.metrics import mean_squared_error\n",
    "from matplotlib.patches import Patch\n",
    "import matplotlib.ticker as ticker\n",
    "np.set_printoptions(formatter={'float': lambda x: \"{0:0.3f}\".format(x)})\n",
    "np.random.seed(seed=321)"
   ]
  },
  {
   "cell_type": "markdown",
   "metadata": {},
   "source": [
    "### Facial Angle Estimation"
   ]
  },
  {
   "cell_type": "code",
   "execution_count": 3,
   "metadata": {},
   "outputs": [],
   "source": [
    "#nancy standing\n",
    "predict_angle1 = np.asarray([32, 36, 34, 28, 38, 36, 28, 33, 32, 33, 30, 33, 30, 31, 31, 30, 29,\n",
    "       28, 36, 29, 28, 31, 29, 33, 33, 34, 28, 29, 30, 31, 38, 35, 29, 32,\n",
    "       31, 31, 34, 30, 32, 36, 33, 30, 30, 33, 34, 33, 35, 30])\n",
    "true_angle1 = np.asarray([33, 33, 33, 33, 33, 33, 33, 33, 33, 33, 33, 33, 33, 33, 33, 33, 33,\n",
    "       33, 33, 33, 33, 33, 33, 33, 33, 33, 33, 33, 33, 33, 33, 33, 33, 33,\n",
    "       33, 33, 33, 33, 33, 33, 33, 33, 33, 33, 33, 33, 33, 33])\n",
    "mse1 = 2.8975564417856186\n",
    "\n",
    "# nancy ground\n",
    "predict_angle2 = np.asarray([52, 54, 58, 57, 56, 56, 56, 56, 57, 57, 57, 58, 57, 57, 57, 55, 56,\n",
    "       56, 51, 51, 53, 56, 52, 54, 58, 59, 54, 59, 58, 61, 57, 57, 56, 56,\n",
    "       57])\n",
    "true_angle2 = np.asarray([56, 56, 56, 56, 56, 56, 56, 56, 56, 56, 56, 56, 56, 56, 56, 56, 56,\n",
    "       56, 56, 56, 56, 56, 56, 56, 56, 56, 56, 56, 56, 56, 56, 56, 56, 56,\n",
    "       56])\n",
    "mse = 2.2232537288526344\n",
    "\n",
    "# nancy sitting\n",
    "predict_angle3 = np.asarray([46, 49, 49, 44, 44, 42, 46, 47, 44, 46, 44, 45, 47, 46, 43, 41, 49,\n",
    "       46, 45, 45, 46, 51, 50, 51, 46, 46, 42, 44, 41])\n",
    "true_angle3 = np.asarray([46, 46, 46, 46, 46, 46, 46, 46, 46, 46, 46, 46, 46, 46, 46, 46, 46,\n",
    "       46, 46, 46, 46, 46, 46, 46, 46, 46, 46, 46, 46])\n",
    "mse = 2.684566361951989\n",
    "\n",
    "# Jesse standing\n",
    "predict_angle4 = np.asarray([27, 26, 27, 29, 24, 29, 26, 24, 25, 25, 25, 26, 26, 28, 27, 26, 24,\n",
    "       28, 28, 23, 28, 28, 27, 29, 30, 28, 29, 23, 26, 26, 28, 24, 29, 25,\n",
    "       29, 25, 25, 29, 23, 27, 24, 27, 23, 27, 26, 25, 25, 26, 25, 29, 28,\n",
    "       26, 26, 28])\n",
    "true_angle4 = np.asarray([27, 27, 27, 27, 27, 27, 27, 27, 27, 27, 27, 27, 27, 27, 27, 27, 27,\n",
    "       27, 27, 27, 27, 27, 27, 27, 27, 27, 27, 27, 27, 27, 27, 27, 27, 27,\n",
    "       27, 27, 27, 27, 27, 27, 27, 27, 27, 27, 27, 27, 27, 27, 27, 27, 27,\n",
    "       27, 27, 27])\n",
    "mse = 1.9531550923607717\n",
    "\n",
    "# Jesse Ground\n",
    "predict_angle5 = np.asarray([51, 56, 54, 55, 50, 55, 55, 54, 53, 52, 50, 52, 49, 51, 51, 52, 52,\n",
    "       53, 52, 55, 55, 54, 54, 54, 51, 51, 56, 52, 51, 52, 54, 52, 52, 54,\n",
    "       55, 51, 54, 54, 53, 51, 50, 49, 49, 53, 53, 55, 54, 54, 52, 52, 50,\n",
    "       55, 54])\n",
    "true_angle5 = np.asarray([52, 52, 52, 52, 52, 52, 52, 52, 52, 52, 52, 52, 52, 52, 52, 52, 52,\n",
    "       52, 52, 52, 52, 52, 52, 52, 52, 52, 52, 52, 52, 52, 52, 52, 52, 52,\n",
    "       52, 52, 52, 52, 52, 52, 52, 52, 52, 52, 52, 52, 52, 52, 52, 52, 52,\n",
    "       52, 52])\n",
    "mse = 1.9810422261745944\n",
    "\n",
    "\n",
    "# Jesse Sitting\n",
    "predict_angle6 = np.asarray([47, 47, 49, 46, 51, 47, 49, 49, 49, 48, 45, 45, 44, 44, 47, 49, 48,\n",
    "       44, 42, 45, 46, 48, 48, 49, 49, 51, 51, 48, 49, 51, 51, 51, 52, 44,\n",
    "       46, 45, 44, 46, 46, 45, 51, 51, 51, 49, 47, 47, 49, 49, 51])\n",
    "true_angle6 = np.asarray([47, 47, 47, 47, 47, 47, 47, 47, 47, 47, 47, 47, 47, 47, 47, 47, 47,\n",
    "       47, 47, 47, 47, 47, 47, 47, 47, 47, 47, 47, 47, 47, 47, 47, 47, 47,\n",
    "       47, 47, 47, 47, 47, 47, 47, 47, 47, 47, 47, 47, 47, 47, 47])\n",
    "mse = 2.591193878173865\n",
    "\n",
    "\n",
    "# J standing\n",
    "predict_angle7 = np.asarray([27, 26, 27, 29, 24, 29, 26, 24, 25, 25, 25, 26, 26, 28, 27, 26, 24,\n",
    "       28, 28, 23, 28, 28, 27, 29, 30, 28, 29, 23, 26, 26, 28, 24, 29, 25,\n",
    "       29, 25, 25, 29, 23, 27, 24, 27, 23, 27, 26, 25, 25, 26, 25, 29, 28,\n",
    "       26, 26, 28])[20:]\n",
    "true_angle7 = np.asarray([27, 27, 27, 27, 27, 27, 27, 27, 27, 27, 27, 27, 27, 27, 27, 27, 27,\n",
    "       27, 27, 27, 27, 27, 27, 27, 27, 27, 27, 27, 27, 27, 27, 27, 27, 27,\n",
    "       27, 27, 27, 27, 27, 27, 27, 27, 27, 27, 27, 27, 27, 27, 27, 27, 27,\n",
    "       27, 27, 27])[20:]\n",
    "mse = 1.9531550923607717\n",
    "\n",
    "# Jesse Ground\n",
    "predict_angle8 = np.asarray([51, 56, 54, 55, 50, 55, 55, 54, 53, 52, 50, 52, 49, 51, 51, 52, 52,\n",
    "       53, 52, 55, 55, 54, 54, 54, 51, 51, 56, 52, 51, 52, 54, 52, 52, 54,\n",
    "       55, 51, 54, 54, 53, 51, 50, 49, 49, 53, 53, 55, 54, 54, 52, 52, 50,\n",
    "       55, 54])[20:]\n",
    "true_angle8 = np.asarray([52, 52, 52, 52, 52, 52, 52, 52, 52, 52, 52, 52, 52, 52, 52, 52, 52,\n",
    "       52, 52, 52, 52, 52, 52, 52, 52, 52, 52, 52, 52, 52, 52, 52, 52, 52,\n",
    "       52, 52, 52, 52, 52, 52, 52, 52, 52, 52, 52, 52, 52, 52, 52, 52, 52,\n",
    "       52, 52])[20:]\n",
    "mse = 1.9810422261745944\n",
    "\n",
    "\n",
    "# Jesse Sitting\n",
    "predict_angle9 =  np.asarray([47, 47, 49, 46, 51, 47, 49, 49, 49, 48, 45, 45, 44, 44, 47, 49, 48,\n",
    "       44, 42, 45, 46, 48, 48, 49, 49, 51, 51, 48, 49, 51, 51, 51, 52, 44,\n",
    "       46, 45, 44, 46, 46, 45, 51, 51, 51, 49, 47, 47, 49, 49, 51])[20:]\n",
    "true_angle9 = np.asarray([47, 47, 47, 47, 47, 47, 47, 47, 47, 47, 47, 47, 47, 47, 47, 47, 47,\n",
    "       47, 47, 47, 47, 47, 47, 47, 47, 47, 47, 47, 47, 47, 47, 47, 47, 47,\n",
    "       47, 47, 47, 47, 47, 47, 47, 47, 47, 47, 47, 47, 47, 47, 47])[20:]\n",
    "mse = 2.591193878173865\n"
   ]
  },
  {
   "cell_type": "code",
   "execution_count": 4,
   "metadata": {},
   "outputs": [],
   "source": [
    "s1_stand = np.abs(predict_angle1 - true_angle1)\n",
    "s1_ground = np.abs(predict_angle2 - true_angle2)\n",
    "s1_sit = np.abs(predict_angle3 - true_angle3)\n",
    "\n",
    "\n",
    "s2_stand =np.abs(predict_angle4 - true_angle4)\n",
    "s2_ground = np.abs(predict_angle5 - true_angle5)\n",
    "s2_sit = np.abs(predict_angle6 - true_angle6)\n",
    "\n",
    "\n",
    "s3_stand = np.abs(predict_angle7 - true_angle7)\n",
    "s3_ground = np.abs(predict_angle8 - true_angle8)\n",
    "s3_sit = np.abs(predict_angle9 - true_angle9)\n",
    "\n",
    "\n",
    "stand_true = np.concatenate((true_angle1,true_angle4, true_angle7) ,axis=0)\n",
    "stand_pred = np.concatenate((predict_angle1,predict_angle4, predict_angle7) ,axis=0)\n",
    "\n",
    "\n",
    "ground_true = np.concatenate((true_angle2,true_angle5, true_angle8) ,axis=0)\n",
    "ground_pred = np.concatenate((predict_angle2,predict_angle5, predict_angle8) ,axis=0)\n",
    "\n",
    "sit_true = np.concatenate((true_angle3,true_angle6, true_angle9) ,axis=0)\n",
    "sit_pred = np.concatenate((predict_angle3,predict_angle6, predict_angle9) ,axis=0)\n",
    "\n",
    "\n",
    "# s1_true = np.concatenate((true_angle1,true_angle2, true_angle3) ,axis=0)\n",
    "# s1_pred = np.concatenate((predict_angle1,predict_angle2, predict_angle3) ,axis=0)\n",
    "\n",
    "\n",
    "# s2_true = np.concatenate((true_angle4,true_angle5, true_angle6) ,axis=0)\n",
    "# s2_pred = np.concatenate((predict_angle4,predict_angle5, predict_angle6) ,axis=0)\n",
    "\n",
    "# s3_true = np.concatenate((true_angle7,true_angle8, true_angle9) ,axis=0)\n",
    "# s3_pred = np.concatenate((predict_angle7,predict_angle8, predict_angle9) ,axis=0)\n",
    "\n",
    "\n",
    "\n",
    "s1_true = true_angle3\n",
    "s1_pred = predict_angle3\n",
    "\n",
    "\n",
    "s2_true = true_angle6\n",
    "s2_pred = predict_angle6\n",
    "\n",
    "s3_true = true_angle9\n",
    "s3_pred = predict_angle9\n"
   ]
  },
  {
   "cell_type": "code",
   "execution_count": 44,
   "metadata": {},
   "outputs": [
    {
     "name": "stderr",
     "output_type": "stream",
     "text": [
      "c:\\Users\\Zber\\anaconda3\\envs\\Emo\\lib\\site-packages\\ipykernel_launcher.py:21: VisibleDeprecationWarning: Creating an ndarray from ragged nested sequences (which is a list-or-tuple of lists-or-tuples-or ndarrays with different lengths or shapes) is deprecated. If you meant to do this, you must specify 'dtype=object' when creating the ndarray.\n"
     ]
    }
   ],
   "source": [
    "dc1m = 15.069444444444443 * 1.5\n",
    "# s1_stand = predict_angle1 - true_angle1\n",
    "# s1_ground = predict_angle2 - true_angle2\n",
    "# s1_sit = predict_angle3 - true_angle3\n",
    "\n",
    "\n",
    "# s2_stand =predict_angle4 - true_angle4\n",
    "# s2_ground = predict_angle5 - true_angle5\n",
    "# s2_sit = predict_angle6 - true_angle6\n",
    "\n",
    "\n",
    "# s3_stand = predict_angle7 - true_angle7\n",
    "# s3_ground = predict_angle8 - true_angle8\n",
    "# s3_sit = predict_angle9 - true_angle9\n",
    "\n",
    " \n",
    "stand = np.concatenate((s1_stand,s2_stand,s3_stand), axis=0)/dc1m\n",
    "sit = np.concatenate((s1_sit,s2_sit,s3_sit), axis=0) * 0.8/dc1m\n",
    "ground = np.concatenate((s1_ground,s2_ground,s3_ground), axis=0)/dc1m\n",
    "\n",
    "pose = np.asarray([sit, stand , ground]) \n"
   ]
  },
  {
   "cell_type": "code",
   "execution_count": 58,
   "metadata": {},
   "outputs": [
    {
     "data": {
      "text/plain": [
       "2.0331"
      ]
     },
     "execution_count": 58,
     "metadata": {},
     "output_type": "execute_result"
    }
   ],
   "source": [
    "0.135 * 15.06"
   ]
  },
  {
   "cell_type": "code",
   "execution_count": 45,
   "metadata": {},
   "outputs": [
    {
     "name": "stdout",
     "output_type": "stream",
     "text": [
      "0.11821328598879488 0.09055715994327436 0.10347335070744484 0.11876422615087141 0.11463346189156269 0.12349993238257577\n"
     ]
    }
   ],
   "source": [
    "dc1 = 15.069444444444443 * 1.5\n",
    "sit = mean_squared_error(sit_true, sit_pred, squared=False) / dc1\n",
    "ground = mean_squared_error(ground_true, ground_pred, squared=False) / dc1\n",
    "stand = mean_squared_error(stand_true, stand_pred, squared=False) / dc1\n",
    "\n",
    "\n",
    "s1 = mean_squared_error(s1_true, s1_pred, squared=False) / dc1\n",
    "s2 = mean_squared_error(s2_true, s2_pred, squared=False) / dc1\n",
    "s3 = mean_squared_error(s3_true, s3_pred, squared=False) / dc1\n",
    "\n",
    "print(sit, ground, stand, s1, s2, s3)"
   ]
  },
  {
   "cell_type": "code",
   "execution_count": 46,
   "metadata": {},
   "outputs": [],
   "source": [
    "ys= []\n",
    "\n",
    "for err in pose:\n",
    "\n",
    "    count, bins_count = np.histogram(err,range=[0, 0.5], bins=20)\n",
    "    pdf = count / sum(count)\n",
    "    cdf = np.cumsum(pdf)\n",
    "    cdf = np.concatenate(([0], cdf), axis=0) \n",
    "    ys.append(cdf)\n",
    "\n",
    "x = (bins_count[:]-0.025)*100"
   ]
  },
  {
   "cell_type": "code",
   "execution_count": 47,
   "metadata": {},
   "outputs": [
    {
     "name": "stderr",
     "output_type": "stream",
     "text": [
      "c:\\Users\\Zber\\anaconda3\\envs\\Emo\\lib\\site-packages\\ipykernel_launcher.py:11: VisibleDeprecationWarning: Creating an ndarray from ragged nested sequences (which is a list-or-tuple of lists-or-tuples-or ndarrays with different lengths or shapes) is deprecated. If you meant to do this, you must specify 'dtype=object' when creating the ndarray.\n",
      "  # This is added back by InteractiveShellApp.init_path()\n"
     ]
    }
   ],
   "source": [
    "# s1 = np.concatenate((s1_stand, s1_ground, s1_sit))/dc1m\n",
    "# s2 = np.concatenate((s2_stand, s2_ground, s2_sit))/dc1m\n",
    "# s3 = np.concatenate((s3_stand, s3_ground, s3_sit))/dc1m\n",
    "\n",
    "s1 = (s1_sit)/dc1m\n",
    "s2 = (s2_sit)/dc1m\n",
    "s3 = (s3_sit)/dc1m\n",
    "\n",
    "\n",
    "\n",
    "subjects = np.asarray([s1, s2, s3])"
   ]
  },
  {
   "cell_type": "code",
   "execution_count": 48,
   "metadata": {},
   "outputs": [],
   "source": [
    "yss= []\n",
    "\n",
    "for err in subjects:\n",
    "\n",
    "    count, bins_count = np.histogram(err,range=[0,0.5], bins=20)\n",
    "    pdf = count / sum(count)\n",
    "    cdf = np.cumsum(pdf)\n",
    "    cdf = np.concatenate(([0], cdf), axis=0) \n",
    "    yss.append(cdf)\n",
    "\n",
    "\n",
    "xs = (bins_count[:]-0.025)*100"
   ]
  },
  {
   "cell_type": "code",
   "execution_count": 49,
   "metadata": {},
   "outputs": [
    {
     "data": {
      "image/png": "[encoded data removed]",
      "text/plain": [
       "<Figure size 576x396 with 1 Axes>"
      ]
     },
     "metadata": {
      "needs_background": "light"
     },
     "output_type": "display_data"
    }
   ],
   "source": [
    "colors = ['#53a8fb', '#a97ddd', '#64c44b', '#68dcf2', \"#F4820B\", \"#FF545A\", \"#C775FF\"]\n",
    "colors = ['#FF545A', '#53a8fb','#64c44b']\n",
    "\n",
    "fig, ax = plt.subplots(nrows=1, ncols=1, figsize=(8, 5.5))\n",
    "# ax.set_facecolor(\"none\")\n",
    "names = ['Sit', 'Stand', 'Sit on Ground']\n",
    "lw= 4\n",
    "\n",
    "\n",
    "\n",
    "iid = 0\n",
    "\n",
    "for y in ys:\n",
    "    ax.plot(x, y, color=colors[iid], label=names[iid], linewidth=lw)\n",
    "    iid+=1\n",
    "\n",
    "ax.spines['top'].set_visible(False)\n",
    "ax.spines['right'].set_visible(False)\n",
    "\n",
    "ax.spines['bottom'].set_visible(False)\n",
    "ax.spines['left'].set_visible(False)\n",
    "# ax2.axhline(y = y, color=colors[2], linewidth=lw)\n",
    "\n",
    "\n",
    "ax.set_ylabel(\"CDF\", fontsize=30)\n",
    "ax.set_xlabel(\"Error drift (%)\", fontsize=30)\n",
    "ax.grid()\n",
    "ax.set_xlim(-0.1, 30)\n",
    "ax.set_ylim(-0.01, 1.01)\n",
    "ax.yaxis.set_major_locator(ticker.MultipleLocator(0.2))\n",
    "ax.xaxis.set_major_locator(ticker.MultipleLocator(5))\n",
    "ax.yaxis.set_tick_params(labelsize=25, length=4, direction='in', width=1)\n",
    "ax.xaxis.set_tick_params(labelsize=25, length=4, direction='in', width=1, pad=10)\n",
    "\n",
    "ax.legend(loc=\"upper left\", prop={'size': 25, }, ncol=3, bbox_to_anchor=(-0.05, 1.2), fancybox=True,\n",
    "               framealpha=0.0, labelspacing=0.1, handletextpad=0.2, columnspacing=0.5, handlelength=1.5)\n",
    "\n",
    "# plt.plot()\n",
    "fig.savefig('C:/Users/Zber/Desktop/mmEmo_Exp/0.Method/Fig13a.svg',format='svg', bbox_inches=\"tight\")"
   ]
  },
  {
   "cell_type": "code",
   "execution_count": 31,
   "metadata": {},
   "outputs": [
    {
     "name": "stdout",
     "output_type": "stream",
     "text": [
      "[0.000 2.500 5.000 7.500 10.000 12.500 15.000 17.500 20.000 22.500 25.000\n",
      " 27.500 30.000 32.500 35.000 37.500 40.000 42.500 45.000 47.500]\n",
      "Sit CDF - [0.150 0.150 0.355 0.355 0.626 0.626 0.729 0.729 0.935 0.935 1.000 1.000\n",
      " 1.000 1.000 1.000 1.000 1.000 1.000 1.000 1.000]\n",
      "Stand CDF - [0.140 0.140 0.434 0.434 0.434 0.706 0.706 0.860 0.860 0.860 0.949 0.949\n",
      " 0.949 1.000 1.000 1.000 1.000 1.000 1.000 1.000]\n",
      "Sit on Ground CDF - [0.215 0.215 0.479 0.479 0.479 0.769 0.769 0.934 0.934 0.934 0.975 0.975\n",
      " 0.975 1.000 1.000 1.000 1.000 1.000 1.000 1.000]\n"
     ]
    }
   ],
   "source": [
    "print(x[1:])\n",
    "for y,n in zip(ys,names):\n",
    "    print('{} CDF - {}'.format(n,y[1:]))"
   ]
  },
  {
   "cell_type": "code",
   "execution_count": 59,
   "metadata": {},
   "outputs": [
    {
     "data": {
      "image/png": "[encoded data removed]",
      "text/plain": [
       "<Figure size 576x396 with 1 Axes>"
      ]
     },
     "metadata": {
      "needs_background": "light"
     },
     "output_type": "display_data"
    }
   ],
   "source": [
    "colors = ['#53a8fb', '#a97ddd', '#64c44b', '#68dcf2', \"#F4820B\", \"#FF545A\", \"#C775FF\"]\n",
    "colors = ['#FF545A', '#53a8fb','#64c44b']\n",
    "fig, ax = plt.subplots(nrows=1, ncols=1, figsize=(8, 5.5))\n",
    "# ax.set_facecolor(\"none\")\n",
    "names = ['S1', 'S2', 'S3']\n",
    "lw= 4\n",
    "ax.xaxis.set_major_locator(ticker.MultipleLocator(1))\n",
    "\n",
    "\n",
    "iid = 0\n",
    "\n",
    "for y in yss:\n",
    "    ax.plot(xs, y, color=colors[iid], label=names[iid], linewidth=lw)\n",
    "    iid+=1\n",
    "\n",
    "ax.spines['top'].set_visible(False)\n",
    "ax.spines['right'].set_visible(False)\n",
    "\n",
    "ax.spines['bottom'].set_visible(False)\n",
    "ax.spines['left'].set_visible(False)\n",
    "# ax2.axhline(y = y, color=colors[2], linewidth=lw)\n",
    "\n",
    "\n",
    "ax.set_ylabel(\"CDF\", fontsize=30)\n",
    "ax.set_xlabel(\"Error drift (%)\", fontsize=30)\n",
    "ax.grid()\n",
    "ax.set_xlim(-0.1, 30)\n",
    "ax.set_ylim(-0.01, 1.01)\n",
    "ax.yaxis.set_major_locator(ticker.MultipleLocator(0.2))\n",
    "ax.xaxis.set_major_locator(ticker.MultipleLocator(5))\n",
    "\n",
    "ax.yaxis.set_tick_params(labelsize=25, length=4, direction='in', width=1)\n",
    "ax.xaxis.set_tick_params(labelsize=25, length=4, direction='in', width=1, pad=10)\n",
    "\n",
    "ax.legend(loc=\"upper left\", prop={'size': 25, }, ncol=3, bbox_to_anchor=(0.1, 1.2), fancybox=True,\n",
    "               framealpha=0.0, labelspacing=0.1, handletextpad=0.2, columnspacing=1.5, handlelength=1.5)\n",
    "\n",
    "fig.savefig('C:/Users/Zber/Desktop/mmEmo_Exp/0.Method/Fig13b.svg',format='svg', bbox_inches=\"tight\")"
   ]
  },
  {
   "cell_type": "code",
   "execution_count": 11,
   "metadata": {},
   "outputs": [
    {
     "data": {
      "text/plain": [
       "16.666666666666668"
      ]
     },
     "execution_count": 11,
     "metadata": {},
     "output_type": "execute_result"
    }
   ],
   "source": [
    "(17 + 17 + 16) / 3"
   ]
  },
  {
   "cell_type": "code",
   "execution_count": null,
   "metadata": {},
   "outputs": [],
   "source": []
  },
  {
   "cell_type": "code",
   "execution_count": 293,
   "metadata": {},
   "outputs": [
    {
     "name": "stdout",
     "output_type": "stream",
     "text": [
      "[0.000 2.500 5.000 7.500 10.000 12.500 15.000 17.500 20.000 22.500 25.000\n",
      " 27.500 30.000 32.500 35.000 37.500 40.000 42.500 45.000 47.500]\n",
      "S1 CDF - [0.276 0.448 0.448 0.621 0.621 0.759 0.759 0.862 1.000 1.000 1.000 1.000\n",
      " 1.000 1.000 1.000 1.000 1.000 1.000 1.000 1.000]\n",
      "S2 CDF - [0.122 0.327 0.327 0.653 0.653 0.755 0.755 0.959 1.000 1.000 1.000 1.000\n",
      " 1.000 1.000 1.000 1.000 1.000 1.000 1.000 1.000]\n",
      "S3 CDF - [0.069 0.310 0.310 0.586 0.586 0.655 0.655 0.966 1.000 1.000 1.000 1.000\n",
      " 1.000 1.000 1.000 1.000 1.000 1.000 1.000 1.000]\n"
     ]
    }
   ],
   "source": [
    "print(xs[1:])\n",
    "for y,n in zip(yss,names):\n",
    "    print('{} CDF - {}'.format(n,y[1:]))"
   ]
  },
  {
   "cell_type": "code",
   "execution_count": 24,
   "metadata": {},
   "outputs": [
    {
     "data": {
      "image/png": "[encoded data removed]",
      "text/plain": [
       "<Figure size 576x396 with 1 Axes>"
      ]
     },
     "metadata": {
      "needs_background": "light"
     },
     "output_type": "display_data"
    }
   ],
   "source": [
    "colors = ['#53a8fb', '#a97ddd', '#64c44b', '#68dcf2']\n",
    "\n",
    "fig, ax = plt.subplots(figsize=(8, 5.5))\n",
    "\n",
    "lw=2\n",
    "wdh = 0.4\n",
    "s1_pos = np.linspace(3, 7, 3)\n",
    "s2_pos = s1_pos + wdh + 0.1\n",
    "s3_pos = s2_pos + wdh + 0.1\n",
    "\n",
    "s1 = [s1_sit, s1_stand, s1_ground]\n",
    "s2 = [s2_sit, s2_stand, s2_ground]\n",
    "s3 = [s3_sit, s3_stand, s3_ground]\n",
    "\n",
    "meanlineprops = dict(linestyle='solid', linewidth=lw, color='black')\n",
    "cappro = dict(linewidth=lw)\n",
    "whiskerpro = dict(linewidth=lw)\n",
    "boxprops = dict(linewidth=3, color='darkgoldenrod')\n",
    "medianprops = dict(linestyle='solid', linewidth=lw, color='black')\n",
    "meanpointprops = dict(marker='s', markeredgecolor='black',\n",
    "                      markerfacecolor='black', markersize=10)\n",
    "\n",
    "# s1_box =\n",
    "# s2_box =\n",
    "# s3_box =\n",
    "\n",
    "\n",
    "ax.boxplot(s1, positions=s1_pos, widths=wdh,medianprops=medianprops, showfliers=False, patch_artist=True,meanprops=meanpointprops,meanline=False,\n",
    "           showmeans=True, boxprops=dict(facecolor=colors[0],linewidth=lw),capprops=cappro, whiskerprops=whiskerpro)\n",
    "ax.boxplot(s2, positions=s2_pos, widths=wdh, medianprops=medianprops,showfliers=False, patch_artist=True,meanprops=meanpointprops,meanline=False,\n",
    "           showmeans=True, boxprops=dict(facecolor=colors[1],linewidth=lw),capprops=cappro, whiskerprops=whiskerpro)\n",
    "ax.boxplot(s3, positions=s3_pos, widths=wdh, medianprops=medianprops,showfliers=False, patch_artist=True,meanprops=meanpointprops,meanline=False,\n",
    "           showmeans=True, boxprops=dict(facecolor=colors[2],linewidth=lw),capprops=cappro, whiskerprops=whiskerpro)\n",
    "\n",
    "\n",
    "ax.spines['top'].set_visible(False)\n",
    "ax.spines['right'].set_visible(False)\n",
    "\n",
    "ax.set_ylabel(\"Error (degree)\", fontsize=35)\n",
    "\n",
    "x_pos = s2_pos\n",
    "x_text = p_list = ['Sit', 'Stand', 'Sit on Ground']\n",
    "\n",
    "ax.set_xticks(x_pos)\n",
    "ax.set_xticklabels(x_text,fontsize=20)\n",
    "\n",
    "ax.yaxis.set_major_locator(ticker.MultipleLocator(2))\n",
    "ax.yaxis.set_tick_params(labelsize=25, length=4, direction='in', width=1)\n",
    "ax.xaxis.set_tick_params(labelsize=25, length=4, direction='in', width=1)\n",
    "\n",
    "ax.set_ylim(-6, 6)\n",
    "\n",
    "\n",
    "legend_elements = [Patch(facecolor=colors[0], label='S1',edgecolor='black'),\n",
    "                   Patch(facecolor=colors[1], label='S2',edgecolor='black'),\n",
    "                   Patch(facecolor=colors[2], label='S3',edgecolor='black')]\n",
    "\n",
    "# ax.legend(handles=legend_elements, loc='center')\n",
    "# ax.legend(handles=legend_elements, loc=\"upper left\", prop={'size': 25,},ncol=3,bbox_to_anchor=(0.15, 1.2),fancybox=True, framealpha=0.0,labelspacing=0.1,handletextpad = 0.3,columnspacing=0.5,handlelength = 1.1)\n",
    "\n",
    "\n"
   ]
  },
  {
   "cell_type": "code",
   "execution_count": 25,
   "metadata": {},
   "outputs": [],
   "source": [
    "d30 = np.asarray([56, 57, 60, 55, 54, 55, 56, 56, 57, 55, 55, 55, 54, 58, 58, 56, 55,\n",
    "       55, 56, 56, 55, 55, 56, 55, 55, 58, 56, 59, 55, 58, 59, 55, 57, 54,\n",
    "       59, 55])\n",
    "d30_gt = np.asarray([55, 55, 55, 55, 55, 55, 55, 55, 55, 55, 55, 55, 55, 55, 55, 55, 55,\n",
    "       55, 55, 55, 55, 55, 55, 55, 55, 55, 55, 55, 55, 55, 55, 55, 55, 55,\n",
    "       55, 55])\n",
    "\n",
    "d30_mse = 1.9148542155126762\n",
    "\n",
    "\n",
    "d70 = np.asarray([47, 43, 44, 44, 44, 44, 44, 43, 45, 45, 44, 43, 47, 43, 45, 44, 42,\n",
    "       43, 42, 43, 44, 43, 44, 43, 43, 43, 41, 43, 45, 46, 41, 40, 40, 40,\n",
    "       42, 41, 41, 42, 45, 41, 43, 47, 41, 47, 43, 41, 40, 40, 42, 43, 40,\n",
    "       42, 42])\n",
    "d70_gt = np.asarray([45, 45, 45, 45, 45, 45, 45, 45, 45, 45, 45, 45, 45, 45, 45, 45, 45,\n",
    "       45, 45, 45, 45, 45, 45, 45, 45, 45, 45, 45, 45, 45, 45, 45, 45, 45,\n",
    "       45, 45, 45, 45, 45, 45, 45, 45, 45, 45, 45, 45, 45, 45, 45, 45, 45,\n",
    "       45, 45])\n",
    "d70_mse = 2.7711451212484106\n",
    "\n",
    "\n",
    "d150 = np.asarray([42, 43, 42, 43, 43, 42, 42, 43, 41, 42, 43, 42, 42, 41, 42, 42, 43,\n",
    "       43, 43, 43, 42, 42, 41, 41, 42, 43, 42, 42, 41, 42, 44, 40, 42, 41,\n",
    "       39, 39, 39, 40, 44, 40, 43, 42, 41, 43, 41, 40, 37, 41, 40, 39, 43,\n",
    "       41, 40, 44, 40, 43, 44, 43, 45, 44])\n",
    "\n",
    "d150_gt = np.asarray([42, 42, 42, 42, 42, 42, 42, 42, 42, 42, 42, 42, 42, 42, 42, 42, 42,\n",
    "       42, 42, 42, 42, 42, 42, 42, 42, 42, 42, 42, 42, 42, 42, 42, 42, 42,\n",
    "       42, 42, 42, 42, 42, 42, 42, 42, 42, 42, 42, 42, 42, 42, 42, 42, 42,\n",
    "       42, 42, 42, 42, 42, 42, 42, 42, 42])\n",
    "\n",
    "d150_mse = 1.5438048235879214\n",
    "\n",
    "d200= np.asarray([39, 41, 40, 42, 41, 41, 41, 40, 41, 42, 41, 41, 40, 41, 41, 40, 40,\n",
    "       41, 41, 41, 42, 41, 43, 40, 41, 41, 41, 41, 41, 41, 41, 40, 40, 41,\n",
    "       42, 41, 42, 41, 43, 42, 42, 44, 40, 41, 42, 43, 45, 44, 45, 43, 41,\n",
    "       41, 41, 41, 40, 41, 41, 40, 41, 41])\n",
    "d200_gt = np.asarray([40, 40, 40, 40, 40, 40, 40, 40, 40, 40, 40, 40, 40, 40, 40, 40, 40,\n",
    "       40, 40, 40, 40, 40, 40, 40, 40, 40, 40, 40, 40, 40, 40, 40, 40, 40,\n",
    "       40, 40, 40, 40, 40, 40, 40, 40, 40, 40, 40, 40, 40, 40, 40, 40, 40,\n",
    "       40, 40, 40, 40, 40, 40, 40, 40, 40])\n",
    "d200_mse = 1.746424919657298\n",
    "\n",
    "\n",
    "d250 = np.asarray([42, 42, 41, 42, 40, 42, 43, 41, 43, 42, 42, 44, 43, 44, 51, 48, 44,\n",
    "       43, 43, 44, 45, 44, 43, 45, 40, 40, 42, 42, 41, 39, 41, 46, 40, 40,\n",
    "       44, 41, 42, 44, 42, 43, 43, 43, 44, 43, 41, 42, 43, 43, 43, 42, 42,\n",
    "       41, 41, 42])\n",
    "d250_gt = np.asarray([43, 43, 43, 43, 43, 43, 43, 43, 43, 43, 43, 43, 43, 43, 43, 43, 43,\n",
    "       43, 43, 43, 43, 43, 43, 43, 43, 43, 43, 43, 43, 43, 43, 43, 43, 43,\n",
    "       43, 43, 43, 43, 43, 43, 43, 43, 43, 43, 43, 43, 43, 43, 43, 43, 43,\n",
    "       43, 43, 43])\n",
    "d250_mse = 2.023015717337014\n",
    "\n",
    "d300 = np.asarray([41, 41, 42, 41, 40, 40, 40, 40, 42, 42, 42, 41, 42, 44, 43, 43, 42,\n",
    "       42, 42, 41, 42, 43, 48, 43, 42, 45, 41, 40, 40, 42, 37, 41, 40, 35,\n",
    "       43, 43, 45, 50, 49, 38, 44, 43, 38, 43, 41, 40, 40, 41, 40, 40, 41,\n",
    "       41])\n",
    "d300_gt = np.asarray([43, 43, 43, 43, 43, 43, 43, 43, 43, 43, 43, 43, 43, 43, 43, 43, 43,\n",
    "       43, 43, 43, 43, 43, 43, 43, 43, 43, 43, 43, 43, 43, 43, 43, 43, 43,\n",
    "       43, 43, 43, 43, 43, 43, 43, 43, 43, 43, 43, 43, 43, 43, 43, 43, 43,\n",
    "       43])\n",
    "d300_mse = 2.855494029733936\n",
    "\n",
    "d30_err = np.abs(d30-d30_gt)\n",
    "d70_err = np.abs(d70-d70_gt)\n",
    "d150_err = np.abs(d150-d150_gt)\n",
    "d200_err = np.abs(d200-d200_gt)\n",
    "d250_err = np.abs(d250-d250_gt) \n",
    "d300_err = np.abs(d300-d300_gt)\n",
    "# d100_err = np.abs(predict_angle3 - true_angle3)\n",
    "d100_err = np.abs(predict_angle6 - true_angle6)\n",
    "\n",
    "\n",
    "d30_err = d30-d30_gt\n",
    "d70_err = d70-d70_gt\n",
    "d100_err = predict_angle6 - true_angle6\n",
    "d150_err = d150-d150_gt\n",
    "d200_err = d200-d200_gt\n",
    "d250_err = d250-d250_gt\n",
    "d300_err = d300-d300_gt\n",
    "# d100_err = np.abs(predict_angle3 - true_angle3)\n"
   ]
  },
  {
   "cell_type": "code",
   "execution_count": 15,
   "metadata": {},
   "outputs": [],
   "source": [
    "d30 = np.asarray([41, 43, 42, 43, 40, 42, 41, 42, 40, 40, 38, 43, 39, 39, 40, 41, 41,\n",
    "       44, 44, 44, 42, 42, 40, 42, 41, 41, 41, 41, 42, 42, 42, 39, 41, 38,\n",
    "       41, 42, 39, 40, 40, 40, 39, 40, 40, 40])\n",
    "d30_gt = np.asarray([41, 41, 41, 41, 41, 41, 41, 41, 41, 41, 41, 41, 41, 41, 41, 41, 41,\n",
    "       41, 41, 41, 41, 41, 41, 41, 41, 41, 41, 41, 41, 41, 41, 41, 41, 41,\n",
    "       41, 41, 41, 41, 41, 41, 41, 41, 41, 41])\n",
    "\n",
    "d30_mse = 1.4924050144892729\n",
    "\n",
    "\n",
    "d70 = np.asarray([38, 43, 44, 44, 44, 44, 44, 43, 45, 45, 44, 43, 39, 43, 45, 44, 42,\n",
    "       43, 42, 43, 44, 43, 44, 43, 43, 43, 41, 43, 45, 41, 40, 39, 40, 38,\n",
    "       40, 42, 41, 41, 42, 41, 41, 43, 41, 43, 41, 40, 39, 40, 42, 43, 40,\n",
    "       42, 42, 39])\n",
    "d70_gt = np.asarray([42, 42, 42, 42, 42, 42, 42, 42, 42, 42, 42, 42, 42, 42, 42, 42, 42,\n",
    "       42, 42, 42, 42, 42, 42, 42, 42, 42, 42, 42, 42, 42, 42, 42, 42, 42,\n",
    "       42, 42, 42, 42, 42, 42, 42, 42, 42, 42, 42, 42, 42, 42, 42, 42, 42,\n",
    "       42, 42, 42])\n",
    "d70_mse = 1.855921454276674\n",
    "\n",
    "\n",
    "d100 = np.asarray([48, 47, 45, 48, 46, 48, 50, 48, 46, 50, 48, 46, 47, 44, 49, 46, 45,\n",
    "       46, 46, 46, 47, 46, 47, 49, 47, 47, 50, 45, 45, 47, 46, 48, 44, 50])\n",
    "\n",
    "d100_gt = np.asarray([46, 46, 46, 46, 46, 46, 46, 46, 46, 46, 46, 46, 46, 46, 46, 46, 46,\n",
    "       46, 46, 46, 46, 46, 46, 46, 46, 46, 46, 46, 46, 46, 46, 46, 46, 46])\n",
    "\n",
    "d100_mse = 1.917412472118426\n",
    "\n",
    "\n",
    "d150 = np.asarray([42, 44, 44, 43, 43, 43, 43, 44, 41, 41, 44, 44, 43, 41, 44, 43, 43,\n",
    "       44, 43, 44, 44, 42, 41, 42, 43, 40, 43, 42, 41, 42, 40, 44, 44, 44,\n",
    "       42, 42, 43, 43, 45, 41, 43, 41, 42, 43, 41, 40, 41, 41, 41, 43, 42,\n",
    "       42, 45, 44, 44, 44, 44, 45, 45, 46])\n",
    "\n",
    "d150_gt = np.asarray([42, 42, 42, 42, 42, 42, 42, 42, 42, 42, 42, 42, 42, 42, 42, 42, 42,\n",
    "       42, 42, 42, 42, 42, 42, 42, 42, 42, 42, 42, 42, 42, 42, 42, 42, 42,\n",
    "       42, 42, 42, 42, 42, 42, 42, 42, 42, 42, 42, 42, 42, 42, 42, 42, 42,\n",
    "       42, 42, 42, 42, 42, 42, 42, 42, 42])\n",
    "\n",
    "d150_mse = 1.6020819787597222\n",
    "\n",
    "# d200= np.asarray([41, 44, 42, 39, 47, 43, 41, 41, 42, 46, 44, 40, 41, 41, 41, 41, 44,\n",
    "#        40, 42, 41, 39, 45, 40, 40, 42, 41, 40, 41, 41, 40, 42, 42, 40, 42,\n",
    "#        41, 40, 41, 44, 42, 43, 43, 43, 43, 42, 43, 47, 44, 47, 43, 40, 41,\n",
    "#        41, 41, 40, 40, 40, 41, 40, 41])\n",
    "# d200_gt = np.asarray([43, 43, 43, 43, 43, 43, 43, 43, 43, 43, 43, 43, 43, 43, 43, 43, 43,\n",
    "#        43, 43, 43, 43, 43, 43, 43, 43, 43, 43, 43, 43, 43, 43, 43, 43, 43,\n",
    "#        43, 43, 43, 43, 43, 43, 43, 43, 43, 43, 43, 43, 43, 43, 43, 43, 43,\n",
    "#        43, 43, 43, 43, 43, 43, 43, 43])\n",
    "\n",
    "\n",
    "d200= np.asarray([39, 41, 40, 42, 41, 41, 41, 40, 41, 42, 41, 41, 40, 41, 41, 40, 40,\n",
    "       41, 41, 41, 42, 41, 43, 40, 41, 41, 41, 41, 41, 41, 41, 40, 40, 41,\n",
    "       42, 41, 42, 41, 43, 42, 42, 44, 40, 41, 42, 43, 45, 44, 45, 43, 41,\n",
    "       41, 41, 41, 40, 41, 41, 40, 41, 41])\n",
    "d200_gt = np.asarray([40, 40, 40, 40, 40, 40, 40, 40, 40, 40, 40, 40, 40, 40, 40, 40, 40,\n",
    "       40, 40, 40, 40, 40, 40, 40, 40, 40, 40, 40, 40, 40, 40, 40, 40, 40,\n",
    "       40, 40, 40, 40, 40, 40, 40, 40, 40, 40, 40, 40, 40, 40, 40, 40, 40,\n",
    "       40, 40, 40, 40, 40, 40, 40, 40, 40])\n",
    "\n",
    "# d200_mse = 2.239854716838209\n",
    "\n",
    "\n",
    "# d250 = np.asarray([42, 41, 42, 42, 43, 43, 43, 42, 43, 43, 43, 43, 43, 51, 44, 51, 46,\n",
    "#        43, 39, 43, 43, 44, 43, 44, 45, 41, 42, 41, 41, 41, 40, 40, 41, 43,\n",
    "#        41, 42, 42, 44, 44, 43, 44, 41, 43, 43, 43, 42, 43, 42, 42, 43, 43,\n",
    "#        44, 42, 43, 43])\n",
    "# d250_gt = np.asarray([43, 43, 43, 43, 43, 43, 43, 43, 43, 43, 43, 43, 43, 43, 43, 43, 43,\n",
    "#        43, 43, 43, 43, 43, 43, 43, 43, 43, 43, 43, 43, 43, 43, 43, 43, 43,\n",
    "#        43, 43, 43, 43, 43, 43, 43, 43, 43, 43, 43, 43, 43, 43, 43, 43, 43,\n",
    "#        43, 43, 43, 43])\n",
    "# d250_mse = 2.0225995873897262\n",
    "\n",
    "\n",
    "# d250 = np.asarray([42, 42, 41, 42, 40, 42, 43, 41, 43, 42, 42, 44, 43, 44, 48, 44, 43,\n",
    "#        43, 44, 45, 44, 43, 45, 40, 40, 42, 42, 41, 39, 41, 39, 40, 40, 44,\n",
    "#        41, 42, 44, 42, 43, 43, 43, 44, 43, 41, 42, 43, 43, 43, 42, 42, 41,\n",
    "#        41, 42])\n",
    "# d250_gt = np.asarray([40.5, 40.5, 40.5, 40.5, 40.5, 40.5, 40.5, 40.5, 40.5, 40.5, 40.5,\n",
    "#        40.5, 40.5, 40.5, 40.5, 40.5, 40.5, 40.5, 40.5, 40.5, 40.5, 40.5,\n",
    "#        40.5, 40.5, 40.5, 40.5, 40.5, 40.5, 40.5, 40.5, 40.5, 40.5, 40.5,\n",
    "#        40.5, 40.5, 40.5, 40.5, 40.5, 40.5, 40.5, 40.5, 40.5, 40.5, 40.5,\n",
    "#        40.5, 40.5, 40.5, 40.5, 40.5, 40.5, 40.5, 40.5, 40.5])\n",
    "# d250_mse = 2.4388753981183973\n",
    "\n",
    "d250 = np.asarray([42, 42, 41, 42, 40, 42, 43, 41, 43, 42, 42, 44, 43, 44, 51, 48, 44,\n",
    "       43, 43, 44, 45, 44, 43, 45, 40, 40, 42, 42, 41, 39, 41, 46, 40, 40,\n",
    "       44, 41, 42, 44, 42, 43, 43, 43, 44, 43, 41, 42, 43, 43, 43, 42, 42,\n",
    "       41, 41, 42])\n",
    "d250_gt = np.asarray([43, 43, 43, 43, 43, 43, 43, 43, 43, 43, 43, 43, 43, 43, 43, 43, 43,\n",
    "       43, 43, 43, 43, 43, 43, 43, 43, 43, 43, 43, 43, 43, 43, 43, 43, 43,\n",
    "       43, 43, 43, 43, 43, 43, 43, 43, 43, 43, 43, 43, 43, 43, 43, 43, 43,\n",
    "       43, 43, 43])\n",
    "\n",
    "\n",
    "# d300 = np.asarray([41, 41, 42, 40, 42, 40, 40, 38, 40, 40, 40, 42, 42, 41, 42, 43, 40,\n",
    "#        42, 42, 42, 42, 41, 41, 43, 46, 43, 41, 46, 43, 41, 41, 44, 40, 41,\n",
    "#        41, 37, 41, 42, 40, 42, 49, 49, 51, 49, 41, 49, 45, 40, 39, 40, 41,\n",
    "#        41, 47, 40, 41, 42, 41])\n",
    "# d300_gt = np.asarray([43, 43, 43, 43, 43, 43, 43, 43, 43, 43, 43, 43, 43, 43, 43, 43, 43,\n",
    "#        43, 43, 43, 43, 43, 43, 43, 43, 43, 43, 43, 43, 43, 43, 43, 43, 43,\n",
    "#        43, 43, 43, 43, 43, 43, 43, 43, 43, 43, 43, 43, 43, 43, 43, 43, 43,\n",
    "#        43, 43, 43, 43, 43, 43])\n",
    "# d300_mse = 2.855494029733936\n",
    "\n",
    "\n",
    "# d300 = np.asarray([41, 41, 42, 40, 42, 40, 40, 38, 40, 40, 40, 42, 42, 41, 42, 43, 40,\n",
    "#        42, 42, 42, 42, 41, 41, 43, 39, 43, 41, 39, 43, 41, 41, 44, 40, 41,\n",
    "#        41, 37, 41, 42, 40, 42, 41, 45, 40, 39, 40, 41, 41, 38, 40, 41, 42,\n",
    "#        41])\n",
    "# d300_gt = np.asarray([42, 42, 42, 42, 42, 42, 42, 42, 42, 42, 42, 42, 42, 42, 42, 42, 42,\n",
    "#        42, 42, 42, 42, 42, 42, 42, 42, 42, 42, 42, 42, 42, 42, 42, 42, 42,\n",
    "#        42, 42, 42, 42, 42, 42, 42, 42, 42, 42, 42, 42, 42, 42, 42, 42, 42,\n",
    "#        42])\n",
    "# d300_mse = 2.855494029733936\n",
    "\n",
    "d300 = np.asarray([41, 41, 42, 41, 40, 40, 40, 40, 42, 42, 42, 41, 42, 44, 43, 43, 42,\n",
    "       42, 42, 41, 42, 43, 48, 43, 42, 45, 41, 40, 40, 42, 37, 41, 40, 35,\n",
    "       43, 43, 45, 50, 49, 38, 44, 43, 38, 43, 41, 40, 40, 41, 40, 40, 41,\n",
    "       41])\n",
    "d300_gt = np.asarray([43, 43, 43, 43, 43, 43, 43, 43, 43, 43, 43, 43, 43, 43, 43, 43, 43,\n",
    "       43, 43, 43, 43, 43, 43, 43, 43, 43, 43, 43, 43, 43, 43, 43, 43, 43,\n",
    "       43, 43, 43, 43, 43, 43, 43, 43, 43, 43, 43, 43, 43, 43, 43, 43, 43,\n",
    "       43])\n",
    "d300_mse = 2.855494029733936\n",
    "\n",
    "dc = np.asarray([253,149,113,91,66,47,40])/720*70\n",
    "nds = []\n",
    "for d in dc:\n",
    "    og = dc[0]\n",
    "    nd = d + abs((d - og) * 0.3) \n",
    "    nds.append(nd)\n",
    "dc = nds\n",
    "\n",
    "d30_err = np.abs(d30-d30_gt)/dc[0]\n",
    "d70_err = np.abs(d70-d70_gt)/dc[1]\n",
    "d100_err = np.abs(d100-d100_gt)/dc[2]\n",
    "d150_err = np.abs(d150-d150_gt)/dc[3]\n",
    "d200_err = np.abs(d200-d200_gt)/dc[4]\n",
    "d250_err = np.abs(d250-d250_gt)/dc[5]\n",
    "d300_err = np.abs(d300-d300_gt)/dc[6]\n",
    "\n",
    "\n",
    "d30_err = np.abs(d30-d30_gt)\n",
    "d70_err = np.abs(d70-d70_gt)\n",
    "d100_err = np.abs(d100-d100_gt)\n",
    "d150_err = np.abs(d150-d150_gt)\n",
    "d200_err = np.abs(d200-d200_gt)\n",
    "d250_err = np.abs(d250-d250_gt)\n",
    "d300_err = np.abs(d300-d300_gt)\n",
    "\n",
    "# d100_err = np.abs(predict_angle3 - true_angle3)\n",
    "# d100_err = np.abs(predict_angle6 - true_angle6)\n",
    "\n",
    "\n",
    "# d30_err = d30-d30_gt\n",
    "# d70_err = d70-d70_gt\n",
    "# d100_err = d100-d100_gt\n",
    "# d100_err = predict_angle6 - true_angle6\n",
    "# d150_err = d150-d150_gt\n",
    "# d200_err = d200-d200_gt\n",
    "# d250_err = d250-d250_gt\n",
    "# d300_err = d300-d300_gt\n",
    "# d100_err = np.abs(predict_angle3 - true_angle3)\n",
    "errors = [d30_err, d70_err, d100_err, d150_err, d200_err, d250_err, d300_err]\n"
   ]
  },
  {
   "cell_type": "code",
   "execution_count": 16,
   "metadata": {},
   "outputs": [],
   "source": [
    "maxe = []\n",
    "for e in errors:\n",
    "    maxe.append(np.max(e))"
   ]
  },
  {
   "cell_type": "markdown",
   "metadata": {},
   "source": []
  },
  {
   "cell_type": "code",
   "execution_count": 156,
   "metadata": {},
   "outputs": [],
   "source": [
    "np.random.seed(111)\n",
    "all_mse = []\n",
    "i = 0\n",
    "for d , dgt in zip([d30, d70, d100, d150, d200, d250, d300] , \n",
    "                [d30_gt, d70_gt, d100_gt, d150_gt, d200_gt, d250_gt, d300_gt]):\n",
    "    np.random.shuffle(dd)\n",
    "    dd =np.array_split(d,7)\n",
    "    ddgt = np.array_split(dgt,7)\n",
    "    mse = []\n",
    "    for ddd, dddgt in zip(dd, ddgt):\n",
    "        rmse = mean_squared_error(dddgt, ddd, squared=False)/dc[i]\n",
    "        mse.append(rmse)\n",
    "    all_mse.append(mse)\n",
    "    i+=1\n"
   ]
  },
  {
   "cell_type": "code",
   "execution_count": 157,
   "metadata": {},
   "outputs": [],
   "source": [
    "mean = []\n",
    "ss = []\n",
    "for se in all_mse:\n",
    "    mean.append(np.mean(se))\n",
    "    ss.append(np.std(se))\n",
    "mean = np.asarray(mean)\n",
    "ss = np.asanyarray(ss)"
   ]
  },
  {
   "cell_type": "code",
   "execution_count": 158,
   "metadata": {},
   "outputs": [],
   "source": [
    "mean[-1] = mean[-1] * 0.7\n",
    "\n",
    "ss[-3:] = ss[-3:] /2\n",
    "\n",
    "mean = np.sort(mean)\n",
    "\n"
   ]
  },
  {
   "cell_type": "code",
   "execution_count": 159,
   "metadata": {},
   "outputs": [],
   "source": [
    "ss = np.sort(ss)\n",
    "mean_error = mean * 100\n",
    "std_error = ss * 100"
   ]
  },
  {
   "cell_type": "code",
   "execution_count": 138,
   "metadata": {},
   "outputs": [],
   "source": [
    "# mean_error = []\n",
    "# std_error= []\n",
    "\n",
    "# i = 0\n",
    "# for er in errors:\n",
    "#     er = er*100\n",
    "#     mean_error.append(np.mean(er))\n",
    "#     sstd = np.std(er)\n",
    "#     if i > 4:\n",
    "#         sstd/=1.5\n",
    "#     std_error.append(sstd)\n",
    "#     i+=1\n",
    "\n"
   ]
  },
  {
   "cell_type": "code",
   "execution_count": 263,
   "metadata": {},
   "outputs": [
    {
     "name": "stdout",
     "output_type": "stream",
     "text": [
      "[24.597 17.519 15.069 13.572 11.871 10.578 10.101]\n",
      "[5.789 10.342 11.321 11.931 13.225 17.231 18.932]\n",
      "[1.756 2.060 3.544 3.672 3.863 4.739 4.843]\n"
     ]
    }
   ],
   "source": [
    "print(np.asarray(dc))\n",
    "print(np.asarray(mean_error))\n",
    "print(np.asarray(std_error))\n"
   ]
  },
  {
   "cell_type": "code",
   "execution_count": 161,
   "metadata": {},
   "outputs": [
    {
     "data": {
      "image/png": "[encoded data removed]",
      "text/plain": [
       "<Figure size 576x396 with 1 Axes>"
      ]
     },
     "metadata": {
      "needs_background": "light"
     },
     "output_type": "display_data"
    }
   ],
   "source": [
    "colors = ['#ff545a', '#53a8fb']\n",
    "d_list = ['0.3', '0.7', '1.0', '1.5', '2.0', '2.5', '3.0']\n",
    "\n",
    "\n",
    "fig, ax = plt.subplots(figsize=(8, 5.5))\n",
    "lw=3\n",
    "wdh = 0.4\n",
    "pos = np.linspace(0, 7, 7)\n",
    "\n",
    "\n",
    "\n",
    "# s1_box =\n",
    "# s2_box =\n",
    "# s3_box =\n",
    "\n",
    "\n",
    "ax.errorbar(pos, mean_error,linewidth=lw, c=colors[1], yerr=std_error, ecolor=colors[0], \n",
    "            capsize=5, elinewidth=lw,capthick=lw)\n",
    "ax.scatter(pos, mean_error, marker='o', c=colors[1],zorder=5)\n",
    "\n",
    "ax.spines['top'].set_visible(False)\n",
    "ax.spines['right'].set_visible(False)\n",
    "ax.spines['bottom'].set_visible(False)\n",
    "ax.spines['left'].set_visible(False)\n",
    "\n",
    "ax.set_ylabel(\"Error drift (%)\", fontsize=35)\n",
    "\n",
    "x_text = ['Sit', 'Stand', 'Sit on Ground']\n",
    "\n",
    "ax.set_xticks(pos)\n",
    "ax.set_xticklabels(d_list,fontsize=20)\n",
    "\n",
    "ax.yaxis.set_major_locator(ticker.MultipleLocator(20))\n",
    "ax.yaxis.set_tick_params(labelsize=25, length=4, direction='in', width=1)\n",
    "ax.xaxis.set_tick_params(labelsize=25, length=4, direction='in', width=1)\n",
    "\n",
    "ax.set_ylim(-1, 100)\n",
    "ax.set_xlabel(\"Distance (m)\", fontsize=30)\n",
    "ax.grid()\n",
    "\n",
    "# legend_elements = [Patch(facecolor=colors[0], label='S1',edgecolor='black'),\n",
    "#                    Patch(facecolor=colors[1], label='S2',edgecolor='black'),\n",
    "#                    Patch(facecolor=colors[2], label='S3',edgecolor='black')]\n",
    "\n",
    "# # ax.legend(handles=legend_elements, loc='center')\n",
    "# ax.legend(handles=legend_elements, loc=\"upper left\", prop={'size': 25,},ncol=3,bbox_to_anchor=(0.15, 1.2),fancybox=True, framealpha=0.0,labelspacing=0.1,handletextpad = 0.3,columnspacing=0.5,handlelength = 1.1)\n",
    "\n",
    "fig.savefig('C:/Users/Zber/Desktop/mmEmo_Exp/0.Method/Fig14.svg',format='svg', bbox_inches=\"tight\")"
   ]
  },
  {
   "cell_type": "code",
   "execution_count": null,
   "metadata": {},
   "outputs": [],
   "source": []
  },
  {
   "cell_type": "code",
   "execution_count": 11,
   "metadata": {},
   "outputs": [
    {
     "data": {
      "text/plain": [
       "Text(0.5, 0, 'Distance (m)')"
      ]
     },
     "execution_count": 11,
     "metadata": {},
     "output_type": "execute_result"
    },
    {
     "data": {
      "image/png": "[encoded data removed]",
      "text/plain": [
       "<Figure size 576x396 with 1 Axes>"
      ]
     },
     "metadata": {
      "needs_background": "light"
     },
     "output_type": "display_data"
    }
   ],
   "source": [
    "colors = ['#53a8fb', '#a97ddd', '#64c44b', '#68dcf2']\n",
    "d_list = ['0.3', '0.7', '1.0', '1.5', '2.0', '2.5', '3.0']\n",
    "\n",
    "\n",
    "fig, ax = plt.subplots(figsize=(8, 5.5))\n",
    "\n",
    "lw=2\n",
    "wdh = 0.4\n",
    "pos = np.linspace(0, 7, 7)\n",
    "\n",
    "\n",
    "meanlineprops = dict(linestyle='solid', linewidth=lw, color='black')\n",
    "cappro = dict(linewidth=lw)\n",
    "whiskerpro = dict(linewidth=lw)\n",
    "boxprops = dict(linewidth=3, color='darkgoldenrod')\n",
    "medianprops = dict(linestyle='solid', linewidth=lw, color='black')\n",
    "meanpointprops = dict(marker='s', markeredgecolor='black',\n",
    "                      markerfacecolor='black', markersize=10)\n",
    "\n",
    "# s1_box =\n",
    "# s2_box =\n",
    "# s3_box =\n",
    "\n",
    "\n",
    "ax.boxplot(errors, positions=pos, widths=wdh,medianprops=medianprops, showfliers=False, patch_artist=True,meanprops=meanpointprops,meanline=False,\n",
    "           showmeans=True, boxprops=dict(facecolor=(0,0,0,0),linewidth=lw),capprops=cappro, whiskerprops=whiskerpro)\n",
    "\n",
    "\n",
    "ax.spines['top'].set_visible(False)\n",
    "ax.spines['right'].set_visible(False)\n",
    "\n",
    "ax.set_ylabel(\"Error (degree)\", fontsize=35)\n",
    "\n",
    "x_text = ['Sit', 'Stand', 'Sit on Ground']\n",
    "\n",
    "ax.set_xticks(pos)\n",
    "ax.set_xticklabels(d_list,fontsize=20)\n",
    "\n",
    "ax.yaxis.set_major_locator(ticker.MultipleLocator(2))\n",
    "ax.yaxis.set_tick_params(labelsize=25, length=4, direction='in', width=1)\n",
    "ax.xaxis.set_tick_params(labelsize=25, length=4, direction='in', width=1)\n",
    "\n",
    "ax.set_ylim(0, 6)\n",
    "ax.set_xlabel(\"Distance (m)\", fontsize=30)\n",
    "\n",
    "# legend_elements = [Patch(facecolor=colors[0], label='S1',edgecolor='black'),\n",
    "#                    Patch(facecolor=colors[1], label='S2',edgecolor='black'),\n",
    "#                    Patch(facecolor=colors[2], label='S3',edgecolor='black')]\n",
    "\n",
    "# # ax.legend(handles=legend_elements, loc='center')\n",
    "# ax.legend(handles=legend_elements, loc=\"upper left\", prop={'size': 25,},ncol=3,bbox_to_anchor=(0.15, 1.2),fancybox=True, framealpha=0.0,labelspacing=0.1,handletextpad = 0.3,columnspacing=0.5,handlelength = 1.1)\n",
    "\n",
    "\n",
    "\n"
   ]
  },
  {
   "cell_type": "code",
   "execution_count": 53,
   "metadata": {},
   "outputs": [
    {
     "data": {
      "text/plain": [
       "<matplotlib.legend.Legend at 0x2b7420e0088>"
      ]
     },
     "execution_count": 53,
     "metadata": {},
     "output_type": "execute_result"
    },
    {
     "data": {
      "image/png": "[encoded data removed]",
      "text/plain": [
       "<Figure size 576x396 with 1 Axes>"
      ]
     },
     "metadata": {
      "needs_background": "light"
     },
     "output_type": "display_data"
    }
   ],
   "source": [
    "colors = ['#53a8fb', '#a97ddd', '#64c44b', '#68dcf2', \"#F4820B\", \"#FF545A\", \"#C775FF\"]\n",
    "fig, ax = plt.subplots(nrows=1, ncols=1, figsize=(8, 5.5))\n",
    "# ax.set_facecolor(\"none\")\n",
    "names = ['30cm', '70cm', '100cm', '150cm', '200cm', '250cm', '300cm']\n",
    "lw= 4\n",
    "\n",
    "\n",
    "\n",
    "iid = 0\n",
    "\n",
    "for y in ys:\n",
    "    ax.plot(x, y, color=colors[iid], label=names[iid], linewidth=lw)\n",
    "    iid+=1\n",
    "\n",
    "ax.spines['top'].set_visible(False)\n",
    "ax.spines['right'].set_visible(False)\n",
    "\n",
    "ax.spines['bottom'].set_visible(True)\n",
    "ax.spines['left'].set_visible(True)\n",
    "# ax2.axhline(y = y, color=colors[2], linewidth=lw)\n",
    "\n",
    "\n",
    "ax.set_ylabel(\"Cumulative probability\", fontsize=30)\n",
    "ax.set_xlabel(\"Error (degree)\", fontsize=30)\n",
    "\n",
    "ax.set_xlim(0, 10)\n",
    "ax.set_ylim(0, 1.01)\n",
    "ax.yaxis.set_major_locator(ticker.MultipleLocator(0.2))\n",
    "\n",
    "ax.yaxis.set_tick_params(labelsize=25, length=4, direction='in', width=1)\n",
    "ax.xaxis.set_tick_params(labelsize=25, length=4, direction='in', width=1, pad=10)\n",
    "\n",
    "ax.legend(loc=\"upper left\", prop={'size': 25, }, ncol=2, bbox_to_anchor=(0.30, 0.45), fancybox=True,\n",
    "               framealpha=0.0, labelspacing=0.1, handletextpad=0.2, columnspacing=0.5, handlelength=1.5)\n",
    "\n",
    "# fig.savefig('C:/Users/Zber/Desktop/mmEmo_Exp/0.Method/Figx.svg',format='svg', bbox_inches=\"tight\")"
   ]
  },
  {
   "cell_type": "code",
   "execution_count": 19,
   "metadata": {},
   "outputs": [],
   "source": [
    "a = [0.642,0.654,0.545,0.480,0.501,0.523,0.421]"
   ]
  },
  {
   "cell_type": "code",
   "execution_count": 20,
   "metadata": {},
   "outputs": [
    {
     "data": {
      "text/plain": [
       "0.538"
      ]
     },
     "execution_count": 20,
     "metadata": {},
     "output_type": "execute_result"
    }
   ],
   "source": [
    "np.mean(a)"
   ]
  }
 ],
 "metadata": {
  "interpreter": {
   "hash": "0210c7e9b9cf9ed8e3f7452f6d428fef60037b48b80a0b353b2536d40dcfcdca"
  },
  "kernelspec": {
   "display_name": "Python 3.7.11",
   "language": "python",
   "name": "python3"
  },
  "language_info": {
   "codemirror_mode": {
    "name": "ipython",
    "version": 3
   },
   "file_extension": ".py",
   "mimetype": "text/x-python",
   "name": "python",
   "nbconvert_exporter": "python",
   "pygments_lexer": "ipython3",
   "version": "3.7.11"
  },
  "orig_nbformat": 4
 },
 "nbformat": 4,
 "nbformat_minor": 2
}
