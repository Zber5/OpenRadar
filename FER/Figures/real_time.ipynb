{
 "cells": [
  {
   "cell_type": "code",
   "execution_count": 1,
   "metadata": {},
   "outputs": [],
   "source": [
    "import os\n",
    "os.chdir(\"C:\\\\Users\\\\Zber\\\\Documents\\\\Dev_program\\\\OpenRadar\")\n",
    "\n",
    "import matplotlib.pyplot as plt\n",
    "import numpy as np"
   ]
  },
  {
   "cell_type": "code",
   "execution_count": 1,
   "metadata": {},
   "outputs": [
    {
     "ename": "NameError",
     "evalue": "name 'plt' is not defined",
     "output_type": "error",
     "traceback": [
      "\u001b[1;31m---------------------------------------------------------------------------\u001b[0m",
      "\u001b[1;31mNameError\u001b[0m                                 Traceback (most recent call last)",
      "\u001b[1;32m~\\AppData\\Local\\Temp\\ipykernel_18464\\1930009294.py\u001b[0m in \u001b[0;36m<module>\u001b[1;34m\u001b[0m\n\u001b[0;32m      1\u001b[0m \u001b[1;31m# ax.xaxis.set_major_formatter(ticker.FormatStrFormatter('%0.1f'))\u001b[0m\u001b[1;33m\u001b[0m\u001b[1;33m\u001b[0m\u001b[1;33m\u001b[0m\u001b[0m\n\u001b[1;32m----> 2\u001b[1;33m \u001b[0mfig\u001b[0m\u001b[1;33m,\u001b[0m \u001b[1;33m(\u001b[0m\u001b[0max1\u001b[0m\u001b[1;33m,\u001b[0m \u001b[0max2\u001b[0m\u001b[1;33m)\u001b[0m \u001b[1;33m=\u001b[0m \u001b[0mplt\u001b[0m\u001b[1;33m.\u001b[0m\u001b[0msubplots\u001b[0m\u001b[1;33m(\u001b[0m\u001b[0mnrows\u001b[0m\u001b[1;33m=\u001b[0m\u001b[1;36m2\u001b[0m\u001b[1;33m,\u001b[0m \u001b[0mncols\u001b[0m\u001b[1;33m=\u001b[0m\u001b[1;36m1\u001b[0m\u001b[1;33m,\u001b[0m\u001b[0mfigsize\u001b[0m\u001b[1;33m=\u001b[0m\u001b[1;33m(\u001b[0m\u001b[1;36m16\u001b[0m\u001b[1;33m,\u001b[0m \u001b[1;36m5.5\u001b[0m\u001b[1;33m)\u001b[0m\u001b[1;33m)\u001b[0m\u001b[1;33m\u001b[0m\u001b[1;33m\u001b[0m\u001b[0m\n\u001b[0m\u001b[0;32m      3\u001b[0m \u001b[1;31m# fig, ax1 = plt.subplots(nrows=1, ncols=1,figsize=(16, 3))\u001b[0m\u001b[1;33m\u001b[0m\u001b[1;33m\u001b[0m\u001b[1;33m\u001b[0m\u001b[0m\n\u001b[0;32m      4\u001b[0m \u001b[1;33m\u001b[0m\u001b[0m\n\u001b[0;32m      5\u001b[0m \u001b[0mlw\u001b[0m \u001b[1;33m=\u001b[0m \u001b[1;36m6\u001b[0m\u001b[1;33m\u001b[0m\u001b[1;33m\u001b[0m\u001b[0m\n",
      "\u001b[1;31mNameError\u001b[0m: name 'plt' is not defined"
     ]
    }
   ],
   "source": [
    "# ax.xaxis.set_major_formatter(ticker.FormatStrFormatter('%0.1f'))\n",
    "fig, (ax1, ax2) = plt.subplots(nrows=2, ncols=1,figsize=(16, 5.5))\n",
    "# fig, ax1 = plt.subplots(nrows=1, ncols=1,figsize=(16, 3))\n",
    "\n",
    "lw = 6\n",
    "\n",
    "# 10 *60 = 600\n",
    "height = 0.2\n",
    "time_bars = [\n",
    "    [20, 20, 'fear'],\n",
    "    [60, 30, 'Joy'],\n",
    "    [100, 40, 'Surprise'],\n",
    "    [200, 20, 'Sadness'],\n",
    "    [300, 20, 'Fear'],\n",
    "\n",
    "]\n",
    "cc = [\"#F4820B\",\"#337FBA\",\"#FFBE54\",'#4CB44C',\"#149FEB\", '#FF545A','grey']\n",
    "\n",
    "\n",
    "emo_list = ['Joy', 'Surprise', 'Anger', 'Sadness', 'Fear', 'Disgust', 'Neutral']\n",
    "\n",
    "colormapping = {}\n",
    "for i,e in enumerate(emo_list):\n",
    "    colormapping[e] = cc[i]\n",
    "\n",
    "\n",
    "for b in time_bars:\n",
    "    ax1.bar(b[0], height, b[1], align='edge', zorder=-1)\n",
    "\n",
    "for b in time_bars:\n",
    "    ax2.bar(b[0], height, b[1], align='edge', zorder=-1)\n",
    "\n",
    "\n",
    "start, end = ax1.get_xlim()\n",
    "xpos = [start, end]\n",
    "xpos_label=['0:00' , '10:00']\n",
    "\n",
    "ax1.set_xticks(xpos)\n",
    "ax1.set_xticklabels(xpos_label,fontsize=25, weight= 'bold')\n",
    "ax1.spines['bottom'].set_linewidth(lw)\n",
    "ax1.spines['top'].set_visible(False)\n",
    "ax1.spines['right'].set_visible(False)\n",
    "ax1.spines['left'].set_visible(False)\n",
    "ax1.set_yticks([])\n",
    "ax1.set_ylim(0,0.3)\n",
    "ax1.xaxis.set_tick_params(labelsize=35, length=20, direction='inout', width=lw)\n",
    "\n",
    "\n",
    "ax2.set_xticks(xpos)\n",
    "ax2.set_xticklabels(xpos_label,fontsize=25, weight= 'bold')\n",
    "ax2.spines['bottom'].set_linewidth(lw)\n",
    "ax2.spines['top'].set_visible(False)\n",
    "ax2.spines['right'].set_visible(False)\n",
    "ax2.spines['left'].set_visible(False)\n",
    "ax2.set_yticks([])\n",
    "ax2.set_ylim(0,0.3)\n",
    "ax2.xaxis.set_tick_params(labelsize=35, length=20, direction='inout', width=lw)\n",
    "ax2.set_zorder(-1)\n",
    "\n",
    "\n",
    "ax1.set_title(\"Our\", fontsize=40, x=-0.1,y=0.15, rotation='horizontal',weight= 'bold')\n",
    "\n",
    "\n",
    "\n",
    "ax2.set_title(\"Image\", fontsize=40, x=-0.07,y=0.15, rotation='horizontal',weight= 'bold')\n",
    "# ax.set_yticks([1,2,3])\n",
    "# ax.set_yticklabels([\"sleep\", \"eat\", \"work\"])\n",
    "\n",
    "fig.savefig('C:/Users/Zber/Desktop/mmEmo_Exp/0.Method/Fig16_realWorld.svg',format='svg', bbox_inches=\"tight\")\n"
   ]
  }
 ],
 "metadata": {
  "kernelspec": {
   "display_name": "Python 3.7.11",
   "language": "python",
   "name": "python3"
  },
  "language_info": {
   "codemirror_mode": {
    "name": "ipython",
    "version": 3
   },
   "file_extension": ".py",
   "mimetype": "text/x-python",
   "name": "python",
   "nbconvert_exporter": "python",
   "pygments_lexer": "ipython3",
   "version": "3.7.11"
  },
  "orig_nbformat": 4,
  "vscode": {
   "interpreter": {
    "hash": "0210c7e9b9cf9ed8e3f7452f6d428fef60037b48b80a0b353b2536d40dcfcdca"
   }
  }
 },
 "nbformat": 4,
 "nbformat_minor": 2
}
