{
 "cells": [
  {
   "cell_type": "code",
   "execution_count": null,
   "metadata": {},
   "outputs": [],
   "source": [
    "import torch\n",
    "import matplotlib\n",
    "\n",
    "matplotlib.use('Agg')\n",
    "from sklearn.manifold import TSNE\n",
    "import numpy as np\n",
    "import matplotlib.pyplot as plt\n",
    "import matplotlib.colors as col\n",
    "\n",
    "\n",
    "def visualize(source_feature: torch.Tensor, target_feature: torch.Tensor,\n",
    "              filename: str, source_color='r', target_color='b'):\n",
    "    \"\"\"\n",
    "    Visualize features from different domains using t-SNE.\n",
    "    Args:\n",
    "        source_feature (tensor): features from source domain in shape :math:`(minibatch, F)`\n",
    "        target_feature (tensor): features from target domain in shape :math:`(minibatch, F)`\n",
    "        filename (str): the file name to save t-SNE\n",
    "        source_color (str): the color of the source features. Default: 'r'\n",
    "        target_color (str): the color of the target features. Default: 'b'\n",
    "    \"\"\"\n",
    "    source_feature = source_feature.numpy()\n",
    "    target_feature = target_feature.numpy()\n",
    "    features = np.concatenate([source_feature, target_feature], axis=0)\n",
    "\n",
    "    # map features to 2-d using TSNE\n",
    "    X_tsne = TSNE(n_components=2, random_state=33).fit_transform(features)\n",
    "\n",
    "    # domain labels, 1 represents source while 0 represents target\n",
    "    domains = np.concatenate((np.ones(len(source_feature)), np.zeros(len(target_feature))))\n",
    "\n",
    "    # visualize using matplotlib\n",
    "    fig, ax = plt.subplots(figsize=(10, 10))\n",
    "    ax.spines['top'].set_visible(False)\n",
    "    ax.spines['right'].set_visible(False)\n",
    "    ax.spines['bottom'].set_visible(False)\n",
    "    ax.spines['left'].set_visible(False)\n",
    "    plt.scatter(X_tsne[:, 0], X_tsne[:, 1], c=domains, cmap=col.ListedColormap([target_color, source_color]), s=20)\n",
    "    plt.xticks([])\n",
    "    plt.yticks([])\n",
    "    plt.savefig(filename)"
   ]
  },
  {
   "cell_type": "code",
   "execution_count": null,
   "metadata": {},
   "outputs": [],
   "source": []
  }
 ],
 "metadata": {
  "language_info": {
   "name": "python"
  },
  "orig_nbformat": 4
 },
 "nbformat": 4,
 "nbformat_minor": 2
}
