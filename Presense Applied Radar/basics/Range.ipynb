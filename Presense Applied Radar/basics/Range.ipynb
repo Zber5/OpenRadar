{
 "cells": [
  {
   "cell_type": "markdown",
   "metadata": {},
   "source": [
    "<img src=\"../assets/logo.png\" width=\"50\" align=\"left\"> \n",
    "\n",
    "# Range\n",
    "\n",
    "***\n",
    "\n",
    "#### Prerequesites\n",
    "- Sampling Data"
   ]
  },
  {
   "cell_type": "code",
   "execution_count": 1,
   "metadata": {},
   "outputs": [],
   "source": [
    "# Imports\n",
    "import numpy as np\n",
    "import matplotlib.pyplot as plt"
   ]
  },
  {
   "cell_type": "markdown",
   "metadata": {},
   "source": [
    "# Intro - A Realistic Example\n",
    "\n",
    "<img src=\"../assets/radar_blip.jpg\" width=\"400\">\n",
    "\n",
    "In the movies, radars are commonly used for military applications like detecting an approaching object. The officer watches as a small blip on the screen comes closer and a decision needs to be made. Is it a friend or a foe? What is really happening is the utilization of a radar for ranging, or detecting how far an object is relative to the radar. Range is the first key piece of information that defines what a radar provides. However, there are manys steps that need to be taken to detect this \"object\" in the radars FOV. Here, we will only demonstrate how we can use a radar to obtain a distance of \"something\", which ironically may be nothing at all."
   ]
  },
  {
   "cell_type": "markdown",
   "metadata": {},
   "source": [
    "## What the Radar Sees\n",
    "\n",
    "In our example, we want to know how far the object is from the radar. Let's say our radar sends out a single chirp which eventually (but quickly) bounces off the plane. We then sample the backscatter of this single chirp as our ADC samples. All the information we need to find the range of this object is encoded in these data samples. "
   ]
  },
  {
   "cell_type": "markdown",
   "metadata": {},
   "source": [
    "## Discovering Meaning in the ADC Samples\n",
    "\n",
    "Since each of the samples are taken at equally spaced time intervals, we have a time log of what happened during the chirp. Every sample is a complex number, meaning we have captured some magnitude of power as well as the phase of the wave at that time. So, our object will theoretically appear as an increase in power in our samples. On the other hand, we can use the distinct phases of each sample to obtain distance.\n",
    "\n",
    "- Power - $P = \\sqrt{I^2+Q^2}$\n",
    "- Phase - $\\angle = \\arctan{(\\frac{I}{Q})}$\n",
    "\n",
    "($I$=Imaginary Component $Q$=Real Component)"
   ]
  },
  {
   "cell_type": "markdown",
   "metadata": {},
   "source": [
    "# Processing Range Information\n",
    "\n",
    "***"
   ]
  },
  {
   "cell_type": "markdown",
   "metadata": {},
   "source": [
    "## Step 1 - Range FFT\n",
    "\n",
    "The first step to obtaining range is by performing an FFT across our ADC samples for a single chirp. This unfortunately does not leave you with a single range. Instead, we obtain multiple \"range bins\". These are exactly what they sound like, bins that store the information for various ranges. \n",
    "\n",
    "The way of obtaining range bins in code is straightforward, we literally just need to take an FFT. We can use a library like numpy to quickly accomplish this task. The data I have provided are samples from a single chirp."
   ]
  },
  {
   "cell_type": "code",
   "execution_count": 2,
   "metadata": {
    "scrolled": true
   },
   "outputs": [
    {
     "data": {
      "image/png": "[encoded data removed]",
      "text/plain": [
       "<Figure size 432x288 with 1 Axes>"
      ]
     },
     "metadata": {
      "needs_background": "light"
     },
     "output_type": "display_data"
    }
   ],
   "source": [
    "# Read in chirp data\n",
    "adc_samples = np.loadtxt('../assets/chirp.txt', dtype=np.complex_)\n",
    "\n",
    "# Manually cast to signed ints\n",
    "adc_samples.real = adc_samples.real.astype(np.int16)\n",
    "adc_samples.imag = adc_samples.imag.astype(np.int16)\n",
    "\n",
    "# Take a FFT across ADC samples\n",
    "range_bins = np.fft.fft(adc_samples)\n",
    "\n",
    "# Plot the magnitudes of the range bins\n",
    "plt.plot(np.abs(range_bins))\n",
    "plt.xlabel('Range Bins')\n",
    "plt.ylabel('Reflected Power')\n",
    "plt.title('Interpreting a Single Chirp')\n",
    "plt.show()"
   ]
  },
  {
   "cell_type": "code",
   "execution_count": 10,
   "metadata": {},
   "outputs": [
    {
     "data": {
      "text/plain": [
       "array([ 1.21200000e+03-8.70000000e+01j,  2.86384776e+03-4.34151135e+03j,\n",
       "       -1.99360988e+03-4.12986333e+02j, -1.89595394e+03-2.19798011e+02j,\n",
       "       -1.23050921e+03+1.38488979e+00j, -9.68389546e+02+6.08617010e+01j,\n",
       "       -6.88662657e+02+1.22722146e+02j, -6.21004426e+02+1.41287970e+02j,\n",
       "       -4.60352230e+02+1.26336939e+02j, -4.38012798e+02+1.53745770e+02j,\n",
       "       -3.03753071e+02+2.00252384e+02j, -2.43695425e+02+1.11350269e+02j,\n",
       "       -2.48172946e+02+9.97796337e+01j, -7.39402331e+01+5.92481466e+01j,\n",
       "       -1.72562931e+02+5.26797404e+01j, -9.47054383e+01+4.15303979e+01j,\n",
       "        1.24891681e-01-2.42132034e+01j, -1.14410324e+02+6.22120301e+01j,\n",
       "       -3.70188724e+01-4.29834380e+01j, -1.24575763e+01-1.10113398e+02j,\n",
       "       -6.33895895e+01-4.25986896e+01j,  8.43508475e+01-5.77100023e+01j,\n",
       "        8.77023542e+01-9.10720300e+01j, -8.06474680e+01-1.02741603e+02j,\n",
       "       -1.00623260e+02+6.19261846e+01j, -1.22176977e+02-1.21740056e+02j,\n",
       "        2.97915835e+02+7.52307982e+01j, -3.43846565e+02+4.88383688e+02j,\n",
       "        5.65713237e+02+2.75451214e+03j,  7.56619903e+02-1.48818263e+03j,\n",
       "       -3.67268035e+02-9.38784879e+02j, -3.58110501e+02-4.89836545e+02j,\n",
       "        2.00000000e+00+5.00000000e+00j,  5.15343322e+01-3.06495041e+02j,\n",
       "       -1.64093590e+01-1.93367347e+02j, -1.25292793e+02-5.47589733e+02j,\n",
       "       -1.27127381e+02-1.81778644e+02j, -1.64409243e+02-2.76139724e+02j,\n",
       "        1.56371490e+02-5.21575763e+02j, -3.31928218e+02-8.27033648e+01j,\n",
       "       -3.39211915e+02-2.82324794e+02j,  1.15510218e+02-4.47702210e+02j,\n",
       "        1.09357111e+02-1.22696912e+02j,  7.53824909e+02+1.69587943e+02j,\n",
       "       -2.46437489e+02+2.43416992e+02j, -1.22587105e+02-4.44566589e+02j,\n",
       "        4.63503935e+02-3.96899122e+02j, -1.42774860e+02-2.65572692e+02j,\n",
       "       -9.35634919e+01+2.98338095e+02j,  7.45098709e+01-4.56222503e+02j,\n",
       "       -2.96993093e+02-1.58014417e+02j, -8.14523798e+00+6.29597098e+01j,\n",
       "       -2.07158938e+02+8.26864974e+01j,  2.48778455e+01-1.74571129e+02j,\n",
       "       -3.14162240e+02+2.45162428e+02j,  2.13123850e+02-1.70694111e+02j,\n",
       "        1.20893834e+02-4.66300330e+02j,  7.71679522e+01-4.52892935e+02j,\n",
       "        1.20655728e+02+2.41250029e+02j,  6.79531370e+02+1.30976661e+03j,\n",
       "       -2.23387376e+02-1.90641015e+02j, -3.47507363e+02-8.17480622e+02j,\n",
       "       -4.72012154e+02-2.42927614e+02j,  1.14857656e+02-3.44597745e+02j,\n",
       "        1.47400000e+03-1.27300000e+03j, -4.58390034e+02+4.58379039e+02j,\n",
       "        3.39784202e+02-6.05702436e+01j, -1.10670434e+03+3.97220394e+02j,\n",
       "       -5.13448183e+02-3.80689361e+02j, -1.47777260e+02+3.90345806e+01j,\n",
       "       -3.05308263e+02-6.20194989e+00j, -1.65709002e+02-2.00869578e+02j,\n",
       "       -4.18542215e+02-6.52860740e+01j, -3.16974394e+02-1.14930491e+02j,\n",
       "       -2.99708867e+02-7.92782098e+01j,  3.94389884e+00+1.45606733e+02j,\n",
       "       -3.24011581e+02-2.14546146e+02j, -2.26656081e+02-2.10328689e+02j,\n",
       "       -1.56405451e+01-2.80933185e+02j, -4.21238129e+01+2.77917392e+00j,\n",
       "       -1.44124892e+02+1.82132034e+01j,  4.29091186e+01-1.08817484e+02j,\n",
       "       -2.35869087e+02-2.11096025e+02j,  7.39711176e+02-2.25354691e+02j,\n",
       "        7.01083984e+01-7.40058284e+00j, -8.95984489e+01+2.98856921e+02j,\n",
       "        1.24451687e+01-3.82211119e+02j,  2.11521038e+01+1.17165228e+01j,\n",
       "       -1.94570427e+01-1.13076329e+02j,  1.02666626e+02+2.70073699e+02j,\n",
       "       -5.84610288e+02-1.21699892e+03j,  4.26345855e+02-1.02191960e+02j,\n",
       "       -1.91382578e+02-1.00898549e+02j, -3.78514540e+02-7.11342351e+02j,\n",
       "        5.71350367e+02-1.72690920e+02j,  1.81364218e+02-1.39999417e+02j,\n",
       "        2.00000000e+01-4.89000000e+02j,  5.07925124e+02-1.49487996e+02j,\n",
       "        1.98665734e+02-4.80043753e+02j,  2.68138650e+02-4.39713089e+02j,\n",
       "        6.17281603e+02-4.90612410e+02j,  4.27532625e+02-7.21585110e+02j,\n",
       "        4.77228999e+02-1.67760569e+02j,  5.09984143e+02-2.03526843e+02j,\n",
       "       -3.21893640e+02-4.62726071e+02j, -1.91722285e+02-8.12195736e+02j,\n",
       "        5.92341542e+02-1.34855371e+03j,  1.83829883e+03+3.38795492e+03j,\n",
       "       -3.98190393e+02+9.18801180e+02j,  1.17387569e+02-1.19530602e+02j,\n",
       "        2.52454585e+02+2.69205005e+02j, -1.22305040e+02-4.04673480e+01j,\n",
       "        2.17563492e+02+1.11661905e+02j,  8.07792606e+01-1.63134053e+02j,\n",
       "        1.20991196e+02-6.54784152e+01j,  3.96833444e+02+1.78777958e+02j,\n",
       "       -5.77566965e+01-3.48991699e+02j,  2.04380988e+02-3.93353849e+02j,\n",
       "        1.48415451e+02-2.37093448e+02j,  2.46412828e+02-6.58331713e+02j,\n",
       "        5.31186468e+02-4.30549525e+02j,  5.70010570e+02-4.94612862e+02j,\n",
       "        3.08261172e+02-3.80665495e+02j,  4.39936999e+02-3.96068701e+02j,\n",
       "        3.85869126e+02-5.10424235e+02j,  4.91056018e+02-5.29877876e+02j,\n",
       "        5.02144474e+02-5.15618722e+02j,  7.17944706e+02-8.44751744e+02j])"
      ]
     },
     "execution_count": 10,
     "metadata": {},
     "output_type": "execute_result"
    }
   ],
   "source": [
    "range_bins"
   ]
  },
  {
   "cell_type": "markdown",
   "metadata": {},
   "source": [
    "## Step 2 - Unit Conversion\n",
    "Great! We have successfully interpreted the data received by the radar. We can clearly see peaks and valleys representing possible objects that our radar may see. This is an important step in using our radar data. We have taken many complex samples that are nonsense to us and used our knowledge to interpret a form of measurment that we can understand. There is already so much we can do with this information.\n",
    "\n",
    "But...there's still a problem you may have noticed, what are the units? My high school physics teacher would say something along the lines of, \"are there 128 cows?\". Well, I didn't lie to you when I said the units are range bins, the bins grouping objects that are within close proximity. Furthermore, the objects at some range bin index are indeed farther than the objects at the previous index and closer than the objects in the next index. That's probably what you didn't want to hear however. You probably wanted to know in terms of some unambiguous unit, say meters from the metric system. To find the units in meters, let's first start off with the following equations...\n",
    "\n",
    "- $f = \\frac{S2 d}{c}$ - The *IF signal* frequency produced by a single object at distance $d$ (where the object appears in the frequency spectrum after the range FFT) \n",
    "    - $f$ - Frequency\n",
    "    - $S$ - Frequency slope of the signal emitted by the chirp\n",
    "    - $d$ - Distance relative to the radar\n",
    "    - $c$ - Speed of light <br> \n",
    "- $\\Delta f > \\frac{1}{T}$ - The minimum separation needed in the frequency spectrum to be resolved by the radar <br>\n",
    "    - $T$ - Sampling period\n",
    "\n",
    "Looking at the first equation and we can see there is a direct relationship between $f$ and $d$...\n",
    "\n",
    "- $f = \\frac{S2 d}{c} \\Rightarrow \\Delta f = \\frac{S2 \\Delta d}{c}$\n",
    "\n",
    "So now we have two separate equations that define $\\Delta f$. Substitution can be now used.\n",
    "\n",
    "- $\\frac{S2 \\Delta d}{c} = \\Delta f \\gt \\frac{1}{T}$\n",
    "- $\\frac{S2 \\Delta d}{c} \\gt \\frac{1}{T}$\n",
    "\n",
    "Finally, we can solve for $\\Delta d$, or the range resolution we can achieve.\n",
    "\n",
    "- $\\Delta d \\gt \\frac{c}{2} \\cdot \\frac{1}{ST}$\n",
    "\n",
    "Since we know $S$ is in some unit of frequency over time, we can simplify $ST$ to just $B$, or the bandwidth of chirp.\n",
    "\n",
    "- $\\Delta d > \\frac{c}{2B}$\n",
    "\n",
    "In other words, the range resolution is only dependent on how large a bandwidth the chirp has. Let's see what information we have to use to try and find this range resolution."
   ]
  },
  {
   "cell_type": "code",
   "execution_count": 13,
   "metadata": {},
   "outputs": [],
   "source": [
    "# Data sampling configuration\n",
    "c = 3e8 # Speed of light (m/s)\n",
    "sample_rate = 2500 # Rate at which the radar samples from ADC (ksps - kilosamples per second)\n",
    "freq_slope = 60 # Frequency slope of the chirp (MHz/us)\n",
    "adc_samples = 128 # Number of samples from a single chirp"
   ]
  },
  {
   "cell_type": "markdown",
   "metadata": {},
   "source": [
    "Not exactly what we wanted, but the only thing we're missing is our bandwidth $B$. We can still use these parameters to find bandwidth since it is just the span of frequency of the chirp. So, we just need to calculate how much of a frequency span the chirp takes. Ignoring converting units for now, this should be our equation:\n",
    "\n",
    "- $B = S \\cdot \\frac{N}{F_s}$\n",
    "    - $S$ - Frequency slope (frequency/time)\n",
    "    - $N$ - Number of ADC samples (samples)\n",
    "    - $F_s$ - Frequency at which we sample ADC samples (samples / time)"
   ]
  },
  {
   "cell_type": "code",
   "execution_count": 17,
   "metadata": {},
   "outputs": [
    {
     "data": {
      "text/plain": [
       "array([  0,   1,   2,   3,   4,   5,   6,   7,   8,   9,  10,  11,  12,\n",
       "        13,  14,  15,  16,  17,  18,  19,  20,  21,  22,  23,  24,  25,\n",
       "        26,  27,  28,  29,  30,  31,  32,  33,  34,  35,  36,  37,  38,\n",
       "        39,  40,  41,  42,  43,  44,  45,  46,  47,  48,  49,  50,  51,\n",
       "        52,  53,  54,  55,  56,  57,  58,  59,  60,  61,  62,  63,  64,\n",
       "        65,  66,  67,  68,  69,  70,  71,  72,  73,  74,  75,  76,  77,\n",
       "        78,  79,  80,  81,  82,  83,  84,  85,  86,  87,  88,  89,  90,\n",
       "        91,  92,  93,  94,  95,  96,  97,  98,  99, 100, 101, 102, 103,\n",
       "       104, 105, 106, 107, 108, 109, 110, 111, 112, 113, 114, 115, 116,\n",
       "       117, 118, 119, 120, 121, 122, 123, 124, 125, 126, 127])"
      ]
     },
     "execution_count": 17,
     "metadata": {},
     "output_type": "execute_result"
    }
   ],
   "source": [
    "np.arange(adc_samples)"
   ]
  },
  {
   "cell_type": "code",
   "execution_count": 14,
   "metadata": {},
   "outputs": [
    {
     "name": "stdout",
     "output_type": "stream",
     "text": [
      "Range Resolution: 0.048828125 [meters]\n"
     ]
    },
    {
     "data": {
      "image/png": "[encoded data removed]",
      "text/plain": [
       "<Figure size 432x288 with 1 Axes>"
      ]
     },
     "metadata": {
      "needs_background": "light"
     },
     "output_type": "display_data"
    }
   ],
   "source": [
    "# Calculating bandwidth of the chirp, accounting for unit conversion\n",
    "chirp_bandwidth = (freq_slope * 1e12 * adc_samples) / (sample_rate * 1e3)\n",
    "\n",
    "# Using our derived equation for range resolution\n",
    "range_res = c / (2 * chirp_bandwidth)\n",
    "print(f'Range Resolution: {range_res} [meters]')\n",
    "\n",
    "# Apply the range resolution factor to the range indices\n",
    "ranges = np.arange(adc_samples) * range_res\n",
    "powers = np.abs(range_bins)\n",
    "\n",
    "# Now we can plot again with an x-axis that makes sense\n",
    "plt.plot(ranges, powers)\n",
    "plt.xlabel('Range (meters)')\n",
    "plt.ylabel('Reflected Power')\n",
    "plt.title('Interpreting a Single Chirp')\n",
    "plt.show()"
   ]
  },
  {
   "cell_type": "markdown",
   "metadata": {},
   "source": [
    "It should be clear at this point that we have a large amount of control over the range resolution. Just with a few tunable parameters we can make our radar have the resolution of a few centimeters or a few meters. On the other hand, we can make our radar have the range a few meters or hundreds of meters."
   ]
  },
  {
   "cell_type": "markdown",
   "metadata": {},
   "source": [
    "# Extras\n",
    "\n",
    "***"
   ]
  },
  {
   "cell_type": "markdown",
   "metadata": {},
   "source": [
    "## Range Benefits from mmWave Radars\n",
    "\n",
    "Radars can detect objects kilometers away, so why not just use them all the time? In short, they were designed just for that and that isn't always what you want. Futhermore, since the wavelengths of the signals are much larger, there is a much more coarse resolution of the range bins. With mmWave radars, we now have the capability of emitting relatively tiny waves. This gives us the opportunity to range at shorter distances with much greater resolution. "
   ]
  },
  {
   "cell_type": "markdown",
   "metadata": {},
   "source": [
    "## Recap\n",
    "\n",
    "In this section, we learned about how a __radar encodes__ range data within its __ADC samples__. There is a straightforward process to extracting this information that can be easily done in code. In code, we first converted this data into units called __range bins__ by performing an __FFT across multiple ADC samples__. These are the discrete relative distances of objects in the radar's view. Then we found the __range resolution__ of each of these range bins, or the range of distance each bin accounts for. However, in order to find calculate the range resolution of the data we needed to have prior knowledge of the configuration of the __chirp__ sent from the radar and the sampling configuration. After we found this, we used it to convert the range bins to a unit that we are all familiar with."
   ]
  },
  {
   "cell_type": "markdown",
   "metadata": {},
   "source": [
    "## Looking Forward\n",
    "\n",
    "Range is a good start, but to more clearly understand why radar is widely used in applications like autonomous vehicles, there are a few more basics we would recommend learning about. These include doppler and angle of arrival (AOA), which are within this same basics section.\n",
    "\n",
    "Did this notebook seem like it skipped over things? Well, that's because it did. For example, we never actually __detected__ that object in our example, we just made a plot that showed a bunch of peaks within the range bins. If you're impatient, you can look into our notebook about __CFAR__ and see why there is still more work to do. Also, you may have noticed our plots have a large power peak at range bin zero which is zero meters away. There wasn't anything at zero meters (aside from the radar), this is actually a type of interference from the radar itself. You may want to look into the notebook about __Compensation__ to find out how to solve this problem. There is still much more to learn even about range, keep reading!"
   ]
  },
  {
   "cell_type": "markdown",
   "metadata": {},
   "source": [
    "***\n",
    "\n",
    "#### Contributors\n",
    "- Dash Kosaka\n",
    "\n",
    "#### Questions, Issues, etc.?\n",
    "Contact by...\n",
    "- email - presenseradar@gmail.com\n",
    "- github - https://github.com/presenseradar/openradar"
   ]
  }
 ],
 "metadata": {
  "kernelspec": {
   "display_name": "mmwave",
   "language": "python",
   "name": "mmwave"
  },
  "language_info": {
   "codemirror_mode": {
    "name": "ipython",
    "version": 3
   },
   "file_extension": ".py",
   "mimetype": "text/x-python",
   "name": "python",
   "nbconvert_exporter": "python",
   "pygments_lexer": "ipython3",
   "version": "3.7.3"
  }
 },
 "nbformat": 4,
 "nbformat_minor": 2
}
